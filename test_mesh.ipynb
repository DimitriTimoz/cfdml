{
 "cells": [
  {
   "cell_type": "code",
   "execution_count": 14,
   "metadata": {},
   "outputs": [],
   "source": [
    "import torch\n",
    "import torch_geometric\n",
    "import pandas as pd"
   ]
  },
  {
   "cell_type": "code",
   "execution_count": 16,
   "metadata": {},
   "outputs": [
    {
     "data": {
      "text/plain": [
       "Data(x=[170180, 5], edge_index=[2, 339172], y=[170180, 4], pos=[170180, 2], surf=[170180])"
      ]
     },
     "execution_count": 16,
     "metadata": {},
     "output_type": "execute_result"
    }
   ],
   "source": [
    "data = torch.load('sampleData.pth')\n",
    "data"
   ]
  },
  {
   "cell_type": "code",
   "execution_count": 17,
   "metadata": {},
   "outputs": [],
   "source": [
    "node_ids = range(data.num_nodes)\n",
    "df_nodes = pd.DataFrame(node_ids, columns=['Id'])\n",
    "\n",
    "# Si les caractéristiques des nœuds sont présentes, on peut les ajouter\n",
    "if data.x is not None:\n",
    "    df_nodes['Features'] = data.x.tolist()\n",
    "\n",
    "# Ajouter les positions des nœuds si elles existent\n",
    "if data.pos is not None:\n",
    "    df_nodes['X'] = data.pos[:, 0].tolist()\n",
    "    df_nodes['Y'] = data.pos[:, 1].tolist()\n",
    "\n",
    "# Sauvegarder en CSV pour importation dans Gephi\n",
    "df_nodes.to_csv(\"nodes_with_positions.csv\", index=False)\n",
    "\n",
    "# Exportation des arêtes\n",
    "edges = data.edge_index.t().numpy()  # Convertir en tableau numpy\n",
    "df_edges = pd.DataFrame(edges, columns=['Source', 'Target'])\n",
    "\n",
    "# Sauvegarder en CSV pour importation dans Gephi\n",
    "df_edges.to_csv(\"edges.csv\", index=False)\n"
   ]
  }
 ],
 "metadata": {
  "kernelspec": {
   "display_name": "env",
   "language": "python",
   "name": "python3"
  },
  "language_info": {
   "codemirror_mode": {
    "name": "ipython",
    "version": 3
   },
   "file_extension": ".py",
   "mimetype": "text/x-python",
   "name": "python",
   "nbconvert_exporter": "python",
   "pygments_lexer": "ipython3",
   "version": "3.10.15"
  }
 },
 "nbformat": 4,
 "nbformat_minor": 2
}
