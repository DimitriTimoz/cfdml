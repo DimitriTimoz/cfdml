{
 "cells": [
  {
   "cell_type": "code",
   "execution_count": 1,
   "metadata": {},
   "outputs": [],
   "source": [
    "import os\n",
    "from lips import get_root_path"
   ]
  },
  {
   "cell_type": "code",
   "execution_count": 2,
   "metadata": {},
   "outputs": [],
   "source": [
    "LIPS_PATH = get_root_path()\n",
    "DIRECTORY_NAME = 'Dataset'\n",
    "BENCHMARK_NAME = \"Case1\"\n",
    "LOG_PATH = LIPS_PATH + \"lips_logs.log\"\n",
    "BENCH_CONFIG_PATH = os.path.join(\"airfoilConfigurations\",\"benchmarks\",\"confAirfoil.ini\") #Configuration file related to the benchmark\n",
    "SIM_CONFIG_PATH = os.path.join(\"airfoilConfigurations\",\"simulators\",\"torch_fc.ini\") #Configuration file re"
   ]
  },
  {
   "cell_type": "code",
   "execution_count": 3,
   "metadata": {},
   "outputs": [
    {
     "name": "stderr",
     "output_type": "stream",
     "text": [
      "/home/dimitri/Development/AI/cfdml/env/lib/python3.8/site-packages/grid2op/Backend/PandaPowerBackend.py:31: UserWarning: Numba cannot be loaded. You will gain possibly massive speed if installing it by \n",
      "\t/home/dimitri/Development/AI/cfdml/env/bin/python -m pip install numba\n",
      "\n",
      "  warnings.warn(\n"
     ]
    }
   ],
   "source": [
    "from lips.dataset.airfransDataSet import download_data\n",
    "if not os.path.isdir(DIRECTORY_NAME):\n",
    "    download_data(root_path=\".\", directory_name=DIRECTORY_NAME)"
   ]
  },
  {
   "cell_type": "code",
   "execution_count": 8,
   "metadata": {},
   "outputs": [],
   "source": [
    "from lips.benchmark.airfransBenchmark import AirfRANSBenchmark\n",
    "\n",
    "skip_training = True\n",
    "benchmark=AirfRANSBenchmark(benchmark_path = DIRECTORY_NAME,\n",
    "                            config_path = BENCH_CONFIG_PATH,\n",
    "                            benchmark_name = BENCHMARK_NAME,\n",
    "                            log_path=LOG_PATH)\n",
    "      \n",
    "if not skip_training:                      \n",
    "    benchmark.load(path=DIRECTORY_NAME)"
   ]
  },
  {
   "cell_type": "code",
   "execution_count": 10,
   "metadata": {},
   "outputs": [],
   "source": [
    "import torch\n",
    "import json\n",
    "import importlib\n",
    "f = open(\"solution/parameters.json\")\n",
    "parameters = json.load(f)\n",
    "hparams = parameters[\"simulator_extra_parameters\"]\n",
    "\n",
    "device = torch.device(\"cuda:0\")\n",
    "skip_training = True\n",
    "\n",
    "network = None\n",
    "if not skip_training:\n",
    "    module = importlib.import_module(\"solution.\" + parameters[\"simulator_config\"][\"simulator_file\"])\n",
    "    importlib.reload(module)\n",
    "    Network = getattr(module, parameters[\"simulator_config\"][\"model\"])\n",
    "    global_train = getattr(module, \"global_train\")\n",
    "    network = Network(**hparams)\n",
    "    network.train(benchmark.train_dataset,\n",
    "                local=True)\n",
    "else:\n",
    "    network = torch.load(\"model.pth\").to(device)"
   ]
  },
  {
   "cell_type": "code",
   "execution_count": 11,
   "metadata": {},
   "outputs": [
    {
     "ename": "AttributeError",
     "evalue": "'GraphSAGE' object has no attribute 'name'",
     "output_type": "error",
     "traceback": [
      "\u001b[0;31m---------------------------------------------------------------------------\u001b[0m",
      "\u001b[0;31mAttributeError\u001b[0m                            Traceback (most recent call last)",
      "Cell \u001b[0;32mIn[11], line 4\u001b[0m\n\u001b[1;32m      1\u001b[0m \u001b[38;5;28;01mimport\u001b[39;00m \u001b[38;5;21;01mtime\u001b[39;00m\n\u001b[1;32m      3\u001b[0m start_test \u001b[38;5;241m=\u001b[39m time\u001b[38;5;241m.\u001b[39mtime()\n\u001b[0;32m----> 4\u001b[0m \u001b[43mbenchmark\u001b[49m\u001b[38;5;241;43m.\u001b[39;49m\u001b[43mevaluate_simulator\u001b[49m\u001b[43m(\u001b[49m\u001b[38;5;124;43m\"\u001b[39;49m\u001b[38;5;124;43mtest\u001b[39;49m\u001b[38;5;124;43m\"\u001b[39;49m\u001b[43m,\u001b[49m\u001b[43m \u001b[49m\u001b[43mnetwork\u001b[49m\u001b[43m,\u001b[49m\u001b[43m \u001b[49m\u001b[43meval_batch_size\u001b[49m\u001b[38;5;241;43m=\u001b[39;49m\u001b[38;5;241;43m256000\u001b[39;49m\u001b[43m)\u001b[49m\n\u001b[1;32m      5\u001b[0m test_evaluation_time \u001b[38;5;241m=\u001b[39m time\u001b[38;5;241m.\u001b[39mtime() \u001b[38;5;241m-\u001b[39m start_test\n\u001b[1;32m      6\u001b[0m test_mean_simulation_time \u001b[38;5;241m=\u001b[39m test_evaluation_time\u001b[38;5;241m/\u001b[39m\u001b[38;5;28mlen\u001b[39m(benchmark\u001b[38;5;241m.\u001b[39m_test_dataset\u001b[38;5;241m.\u001b[39mget_simulations_sizes())\n",
      "File \u001b[0;32m~/Development/AI/cfdml/env/lib/python3.8/site-packages/lips/benchmark/airfransBenchmark.py:182\u001b[0m, in \u001b[0;36mAirfRANSBenchmark.evaluate_simulator\u001b[0;34m(self, dataset, augmented_simulator, save_path, save_predictions, **kwargs)\u001b[0m\n\u001b[1;32m    179\u001b[0m res \u001b[38;5;241m=\u001b[39m {}\n\u001b[1;32m    180\u001b[0m \u001b[38;5;28;01mfor\u001b[39;00m dataset_, nm_ \u001b[38;5;129;01min\u001b[39;00m \u001b[38;5;28mzip\u001b[39m(li_dataset, keys):\n\u001b[1;32m    181\u001b[0m     \u001b[38;5;66;03m# call the evaluate simulator function of Benchmark class\u001b[39;00m\n\u001b[0;32m--> 182\u001b[0m     tmp \u001b[38;5;241m=\u001b[39m \u001b[38;5;28;43mself\u001b[39;49m\u001b[38;5;241;43m.\u001b[39;49m\u001b[43m_aux_evaluate_on_single_dataset\u001b[49m\u001b[43m(\u001b[49m\u001b[43mdataset\u001b[49m\u001b[38;5;241;43m=\u001b[39;49m\u001b[43mdataset_\u001b[49m\u001b[43m,\u001b[49m\n\u001b[1;32m    183\u001b[0m \u001b[43m                                               \u001b[49m\u001b[43maugmented_simulator\u001b[49m\u001b[38;5;241;43m=\u001b[39;49m\u001b[43maugmented_simulator\u001b[49m\u001b[43m,\u001b[49m\n\u001b[1;32m    184\u001b[0m \u001b[43m                                               \u001b[49m\u001b[43msave_path\u001b[49m\u001b[38;5;241;43m=\u001b[39;49m\u001b[43msave_path\u001b[49m\u001b[43m,\u001b[49m\n\u001b[1;32m    185\u001b[0m \u001b[43m                                               \u001b[49m\u001b[43msave_predictions\u001b[49m\u001b[38;5;241;43m=\u001b[39;49m\u001b[43msave_predictions\u001b[49m\u001b[43m,\u001b[49m\n\u001b[1;32m    186\u001b[0m \u001b[43m                                               \u001b[49m\u001b[38;5;241;43m*\u001b[39;49m\u001b[38;5;241;43m*\u001b[39;49m\u001b[43mkwargs\u001b[49m\u001b[43m)\u001b[49m\n\u001b[1;32m    187\u001b[0m     res[nm_] \u001b[38;5;241m=\u001b[39m tmp\n\u001b[1;32m    189\u001b[0m \u001b[38;5;28;01mreturn\u001b[39;00m res\n",
      "File \u001b[0;32m~/Development/AI/cfdml/env/lib/python3.8/site-packages/lips/benchmark/airfransBenchmark.py:222\u001b[0m, in \u001b[0;36mAirfRANSBenchmark._aux_evaluate_on_single_dataset\u001b[0;34m(self, dataset, augmented_simulator, save_path, save_predictions, **kwargs)\u001b[0m\n\u001b[1;32m    191\u001b[0m \u001b[38;5;28;01mdef\u001b[39;00m \u001b[38;5;21m_aux_evaluate_on_single_dataset\u001b[39m(\u001b[38;5;28mself\u001b[39m,\n\u001b[1;32m    192\u001b[0m                                     dataset: AirfRANSDataSet,\n\u001b[1;32m    193\u001b[0m                                     augmented_simulator: Union[AugmentedSimulator, \u001b[38;5;28;01mNone\u001b[39;00m]\u001b[38;5;241m=\u001b[39m\u001b[38;5;28;01mNone\u001b[39;00m,\n\u001b[1;32m    194\u001b[0m                                     save_path: Union[\u001b[38;5;28mstr\u001b[39m, \u001b[38;5;28;01mNone\u001b[39;00m]\u001b[38;5;241m=\u001b[39m\u001b[38;5;28;01mNone\u001b[39;00m,\n\u001b[1;32m    195\u001b[0m                                     save_predictions: \u001b[38;5;28mbool\u001b[39m\u001b[38;5;241m=\u001b[39m\u001b[38;5;28;01mFalse\u001b[39;00m,\n\u001b[1;32m    196\u001b[0m                                     \u001b[38;5;241m*\u001b[39m\u001b[38;5;241m*\u001b[39mkwargs) \u001b[38;5;241m-\u001b[39m\u001b[38;5;241m>\u001b[39m \u001b[38;5;28mdict\u001b[39m:\n\u001b[1;32m    197\u001b[0m \u001b[38;5;250m    \u001b[39m\u001b[38;5;124;03m\"\"\"Evaluate a single dataset\u001b[39;00m\n\u001b[1;32m    198\u001b[0m \u001b[38;5;124;03m    This function will evalute a simulator (physical or augmented) using various criteria predefined in evaluator object\u001b[39;00m\n\u001b[1;32m    199\u001b[0m \u001b[38;5;124;03m    on a ``single test dataset``. It can be overloaded or called to evaluate the performance on multiple datasets\u001b[39;00m\n\u001b[0;32m   (...)\u001b[0m\n\u001b[1;32m    219\u001b[0m \u001b[38;5;124;03m        the results dictionary\u001b[39;00m\n\u001b[1;32m    220\u001b[0m \u001b[38;5;124;03m    \"\"\"\u001b[39;00m\n\u001b[1;32m    221\u001b[0m     \u001b[38;5;28mself\u001b[39m\u001b[38;5;241m.\u001b[39mlogger\u001b[38;5;241m.\u001b[39minfo(\u001b[38;5;124m\"\u001b[39m\u001b[38;5;124mBenchmark \u001b[39m\u001b[38;5;132;01m%s\u001b[39;00m\u001b[38;5;124m, evaluation using \u001b[39m\u001b[38;5;132;01m%s\u001b[39;00m\u001b[38;5;124m on \u001b[39m\u001b[38;5;132;01m%s\u001b[39;00m\u001b[38;5;124m dataset\u001b[39m\u001b[38;5;124m\"\u001b[39m, \u001b[38;5;28mself\u001b[39m\u001b[38;5;241m.\u001b[39mbenchmark_name,\n\u001b[0;32m--> 222\u001b[0m                                                                         \u001b[43maugmented_simulator\u001b[49m\u001b[38;5;241;43m.\u001b[39;49m\u001b[43mname\u001b[49m,\n\u001b[1;32m    223\u001b[0m                                                                         dataset\u001b[38;5;241m.\u001b[39mname\n\u001b[1;32m    224\u001b[0m                                                                         )\n\u001b[1;32m    226\u001b[0m     begin_ \u001b[38;5;241m=\u001b[39m time\u001b[38;5;241m.\u001b[39mperf_counter()\n\u001b[1;32m    227\u001b[0m     predictions \u001b[38;5;241m=\u001b[39m \u001b[38;5;28mself\u001b[39m\u001b[38;5;241m.\u001b[39maugmented_simulator\u001b[38;5;241m.\u001b[39mpredict(dataset, \u001b[38;5;241m*\u001b[39m\u001b[38;5;241m*\u001b[39mkwargs)\n",
      "File \u001b[0;32m~/Development/AI/cfdml/env/lib/python3.8/site-packages/torch/nn/modules/module.py:1614\u001b[0m, in \u001b[0;36mModule.__getattr__\u001b[0;34m(self, name)\u001b[0m\n\u001b[1;32m   1612\u001b[0m     \u001b[38;5;28;01mif\u001b[39;00m name \u001b[38;5;129;01min\u001b[39;00m modules:\n\u001b[1;32m   1613\u001b[0m         \u001b[38;5;28;01mreturn\u001b[39;00m modules[name]\n\u001b[0;32m-> 1614\u001b[0m \u001b[38;5;28;01mraise\u001b[39;00m \u001b[38;5;167;01mAttributeError\u001b[39;00m(\u001b[38;5;124m\"\u001b[39m\u001b[38;5;124m'\u001b[39m\u001b[38;5;132;01m{}\u001b[39;00m\u001b[38;5;124m'\u001b[39m\u001b[38;5;124m object has no attribute \u001b[39m\u001b[38;5;124m'\u001b[39m\u001b[38;5;132;01m{}\u001b[39;00m\u001b[38;5;124m'\u001b[39m\u001b[38;5;124m\"\u001b[39m\u001b[38;5;241m.\u001b[39mformat(\n\u001b[1;32m   1615\u001b[0m     \u001b[38;5;28mtype\u001b[39m(\u001b[38;5;28mself\u001b[39m)\u001b[38;5;241m.\u001b[39m\u001b[38;5;18m__name__\u001b[39m, name))\n",
      "\u001b[0;31mAttributeError\u001b[0m: 'GraphSAGE' object has no attribute 'name'"
     ]
    }
   ],
   "source": [
    "import time\n",
    "\n",
    "start_test = time.time()\n",
    "fc_metrics_test = benchmark.evaluate_simulator(\"test\", network, eval_batch_size=256000)\n",
    "test_evaluation_time = time.time() - start_test\n",
    "test_mean_simulation_time = test_evaluation_time/len(benchmark._test_dataset.get_simulations_sizes())\n",
    "print(\"Test evaluation time: \", test_evaluation_time)\n",
    "print(\"Mean simulation time: \", test_mean_simulation_time)\n",
    "print(\"Test metrics: \", fc_metrics_test)"
   ]
  }
 ],
 "metadata": {
  "kernelspec": {
   "display_name": "env",
   "language": "python",
   "name": "python3"
  },
  "language_info": {
   "codemirror_mode": {
    "name": "ipython",
    "version": 3
   },
   "file_extension": ".py",
   "mimetype": "text/x-python",
   "name": "python",
   "nbconvert_exporter": "python",
   "pygments_lexer": "ipython3",
   "version": "3.8.20"
  }
 },
 "nbformat": 4,
 "nbformat_minor": 2
}
