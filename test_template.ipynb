{
 "cells": [
  {
   "cell_type": "code",
   "execution_count": 1,
   "metadata": {},
   "outputs": [],
   "source": [
    "import os\n",
    "from lips import get_root_path"
   ]
  },
  {
   "cell_type": "code",
   "execution_count": 2,
   "metadata": {},
   "outputs": [],
   "source": [
    "LIPS_PATH = get_root_path()\n",
    "DIRECTORY_NAME = 'Dataset'\n",
    "BENCHMARK_NAME = \"Case1\"\n",
    "LOG_PATH = LIPS_PATH + \"lips_logs.log\"\n",
    "BENCH_CONFIG_PATH = os.path.join(\"airfoilConfigurations\",\"benchmarks\",\"confAirfoil.ini\") #Configuration file related to the benchmark\n",
    "SIM_CONFIG_PATH = os.path.join(\"airfoilConfigurations\",\"simulators\",\"torch_fc.ini\") #Configuration file re"
   ]
  },
  {
   "cell_type": "code",
   "execution_count": 3,
   "metadata": {},
   "outputs": [
    {
     "name": "stderr",
     "output_type": "stream",
     "text": [
      "/home/dimitri/Development/AI/cfdml/env/lib/python3.8/site-packages/grid2op/Backend/PandaPowerBackend.py:31: UserWarning: Numba cannot be loaded. You will gain possibly massive speed if installing it by \n",
      "\t/home/dimitri/Development/AI/cfdml/env/bin/python -m pip install numba\n",
      "\n",
      "  warnings.warn(\n"
     ]
    }
   ],
   "source": [
    "from lips.dataset.airfransDataSet import download_data\n",
    "if not os.path.isdir(DIRECTORY_NAME):\n",
    "    download_data(root_path=\".\", directory_name=DIRECTORY_NAME)"
   ]
  },
  {
   "cell_type": "code",
   "execution_count": 4,
   "metadata": {},
   "outputs": [
    {
     "name": "stderr",
     "output_type": "stream",
     "text": [
      "Loading dataset (task: scarce, split: train): 100%|██████████| 200/200 [00:55<00:00,  3.62it/s]\n",
      "Loading dataset (task: full, split: test): 100%|██████████| 200/200 [00:54<00:00,  3.64it/s]\n",
      "Loading dataset (task: reynolds, split: test): 100%|██████████| 496/496 [02:14<00:00,  3.68it/s]\n"
     ]
    }
   ],
   "source": [
    "from lips.benchmark.airfransBenchmark import AirfRANSBenchmark\n",
    "\n",
    "benchmark=AirfRANSBenchmark(benchmark_path = DIRECTORY_NAME,\n",
    "                            config_path = BENCH_CONFIG_PATH,\n",
    "                            benchmark_name = BENCHMARK_NAME,\n",
    "                            log_path=LOG_PATH)\n",
    "                            \n",
    "benchmark.load(path=DIRECTORY_NAME)"
   ]
  },
  {
   "cell_type": "code",
   "execution_count": 10,
   "metadata": {},
   "outputs": [
    {
     "name": "stdout",
     "output_type": "stream",
     "text": [
      "Using GPU\n",
      "Training\n",
      "Processing dataset\n",
      "Start processing dataset\n"
     ]
    },
    {
     "data": {
      "image/png": "[encoded data removed]",
      "text/plain": [
       "<Figure size 640x480 with 1 Axes>"
      ]
     },
     "metadata": {},
     "output_type": "display_data"
    },
    {
     "name": "stderr",
     "output_type": "stream",
     "text": [
      "  0%|          | 0/60 [00:00<?, ?it/s]"
     ]
    },
    {
     "name": "stdout",
     "output_type": "stream",
     "text": [
      "Epoch:  1\n",
      "Train loader:  <torch_geometric.loader.dataloader.DataLoader object at 0x782681e69d30>\n"
     ]
    },
    {
     "name": "stderr",
     "output_type": "stream",
     "text": [
      "  2%|▏         | 1/60 [00:03<03:45,  3.83s/it]"
     ]
    },
    {
     "name": "stdout",
     "output_type": "stream",
     "text": [
      "Time for epoch:  0.002431154251098633\n",
      "Epoch:  2\n",
      "Train loader:  <torch_geometric.loader.dataloader.DataLoader object at 0x782681e69d30>\n"
     ]
    },
    {
     "name": "stderr",
     "output_type": "stream",
     "text": [
      "  3%|▎         | 2/60 [00:07<03:33,  3.69s/it]"
     ]
    },
    {
     "name": "stdout",
     "output_type": "stream",
     "text": [
      "Time for epoch:  0.002166748046875\n",
      "Epoch:  3\n",
      "Train loader:  <torch_geometric.loader.dataloader.DataLoader object at 0x782681e69d30>\n"
     ]
    },
    {
     "name": "stderr",
     "output_type": "stream",
     "text": [
      "  5%|▌         | 3/60 [00:10<03:26,  3.62s/it]"
     ]
    },
    {
     "name": "stdout",
     "output_type": "stream",
     "text": [
      "Time for epoch:  0.002139568328857422\n",
      "Epoch:  4\n",
      "Train loader:  <torch_geometric.loader.dataloader.DataLoader object at 0x782681e69d30>\n"
     ]
    },
    {
     "name": "stderr",
     "output_type": "stream",
     "text": [
      "  7%|▋         | 4/60 [00:14<03:24,  3.65s/it]"
     ]
    },
    {
     "name": "stdout",
     "output_type": "stream",
     "text": [
      "Time for epoch:  0.0028421878814697266\n",
      "Epoch:  5\n",
      "Train loader:  <torch_geometric.loader.dataloader.DataLoader object at 0x782681e69d30>\n"
     ]
    },
    {
     "name": "stderr",
     "output_type": "stream",
     "text": [
      "  8%|▊         | 5/60 [00:18<03:21,  3.67s/it]"
     ]
    },
    {
     "name": "stdout",
     "output_type": "stream",
     "text": [
      "Time for epoch:  0.002694368362426758\n",
      "Epoch:  6\n",
      "Train loader:  <torch_geometric.loader.dataloader.DataLoader object at 0x782681e69d30>\n"
     ]
    },
    {
     "name": "stderr",
     "output_type": "stream",
     "text": [
      " 10%|█         | 6/60 [00:22<03:18,  3.68s/it]"
     ]
    },
    {
     "name": "stdout",
     "output_type": "stream",
     "text": [
      "Time for epoch:  0.0029113292694091797\n",
      "Epoch:  7\n",
      "Train loader:  <torch_geometric.loader.dataloader.DataLoader object at 0x782681e69d30>\n"
     ]
    },
    {
     "name": "stderr",
     "output_type": "stream",
     "text": [
      " 12%|█▏        | 7/60 [00:25<03:16,  3.71s/it]"
     ]
    },
    {
     "name": "stdout",
     "output_type": "stream",
     "text": [
      "Time for epoch:  0.002371072769165039\n",
      "Epoch:  8\n",
      "Train loader:  <torch_geometric.loader.dataloader.DataLoader object at 0x782681e69d30>\n"
     ]
    },
    {
     "name": "stderr",
     "output_type": "stream",
     "text": [
      " 13%|█▎        | 8/60 [00:29<03:12,  3.70s/it]"
     ]
    },
    {
     "name": "stdout",
     "output_type": "stream",
     "text": [
      "Time for epoch:  0.0024023056030273438\n",
      "Epoch:  9\n",
      "Train loader:  <torch_geometric.loader.dataloader.DataLoader object at 0x782681e69d30>\n"
     ]
    },
    {
     "name": "stderr",
     "output_type": "stream",
     "text": [
      " 15%|█▌        | 9/60 [00:33<03:09,  3.72s/it]"
     ]
    },
    {
     "name": "stdout",
     "output_type": "stream",
     "text": [
      "Time for epoch:  0.0027463436126708984\n",
      "Epoch:  10\n",
      "Train loader:  <torch_geometric.loader.dataloader.DataLoader object at 0x782681e69d30>\n"
     ]
    },
    {
     "name": "stderr",
     "output_type": "stream",
     "text": [
      " 17%|█▋        | 10/60 [00:36<03:05,  3.70s/it]"
     ]
    },
    {
     "name": "stdout",
     "output_type": "stream",
     "text": [
      "Time for epoch:  0.003000974655151367\n",
      "Epoch:  11\n",
      "Train loader:  <torch_geometric.loader.dataloader.DataLoader object at 0x782681e69d30>\n"
     ]
    },
    {
     "name": "stderr",
     "output_type": "stream",
     "text": [
      " 18%|█▊        | 11/60 [00:40<03:02,  3.71s/it]"
     ]
    },
    {
     "name": "stdout",
     "output_type": "stream",
     "text": [
      "Time for epoch:  0.002542257308959961\n",
      "Epoch:  12\n",
      "Train loader:  <torch_geometric.loader.dataloader.DataLoader object at 0x782681e69d30>\n"
     ]
    },
    {
     "name": "stderr",
     "output_type": "stream",
     "text": [
      " 20%|██        | 12/60 [00:44<02:56,  3.67s/it]"
     ]
    },
    {
     "name": "stdout",
     "output_type": "stream",
     "text": [
      "Time for epoch:  0.0028047561645507812\n",
      "Epoch:  13\n",
      "Train loader:  <torch_geometric.loader.dataloader.DataLoader object at 0x782681e69d30>\n"
     ]
    },
    {
     "name": "stderr",
     "output_type": "stream",
     "text": [
      " 22%|██▏       | 13/60 [00:47<02:51,  3.64s/it]"
     ]
    },
    {
     "name": "stdout",
     "output_type": "stream",
     "text": [
      "Time for epoch:  0.004102468490600586\n",
      "Epoch:  14\n",
      "Train loader:  <torch_geometric.loader.dataloader.DataLoader object at 0x782681e69d30>\n"
     ]
    },
    {
     "name": "stderr",
     "output_type": "stream",
     "text": [
      " 23%|██▎       | 14/60 [00:51<02:46,  3.63s/it]"
     ]
    },
    {
     "name": "stdout",
     "output_type": "stream",
     "text": [
      "Time for epoch:  0.0020904541015625\n",
      "Epoch:  15\n",
      "Train loader:  <torch_geometric.loader.dataloader.DataLoader object at 0x782681e69d30>\n"
     ]
    },
    {
     "name": "stderr",
     "output_type": "stream",
     "text": [
      " 25%|██▌       | 15/60 [00:55<02:43,  3.63s/it]"
     ]
    },
    {
     "name": "stdout",
     "output_type": "stream",
     "text": [
      "Time for epoch:  0.002551555633544922\n",
      "Epoch:  16\n",
      "Train loader:  <torch_geometric.loader.dataloader.DataLoader object at 0x782681e69d30>\n"
     ]
    },
    {
     "name": "stderr",
     "output_type": "stream",
     "text": [
      " 27%|██▋       | 16/60 [00:58<02:39,  3.62s/it]"
     ]
    },
    {
     "name": "stdout",
     "output_type": "stream",
     "text": [
      "Time for epoch:  0.002769947052001953\n",
      "Epoch:  17\n",
      "Train loader:  <torch_geometric.loader.dataloader.DataLoader object at 0x782681e69d30>\n"
     ]
    },
    {
     "name": "stderr",
     "output_type": "stream",
     "text": [
      " 28%|██▊       | 17/60 [01:02<02:34,  3.60s/it]"
     ]
    },
    {
     "name": "stdout",
     "output_type": "stream",
     "text": [
      "Time for epoch:  0.006575107574462891\n",
      "Epoch:  18\n",
      "Train loader:  <torch_geometric.loader.dataloader.DataLoader object at 0x782681e69d30>\n"
     ]
    },
    {
     "name": "stderr",
     "output_type": "stream",
     "text": [
      " 30%|███       | 18/60 [01:06<02:37,  3.76s/it]"
     ]
    },
    {
     "name": "stdout",
     "output_type": "stream",
     "text": [
      "Time for epoch:  0.006716251373291016\n",
      "Epoch:  19\n",
      "Train loader:  <torch_geometric.loader.dataloader.DataLoader object at 0x782681e69d30>\n"
     ]
    },
    {
     "name": "stderr",
     "output_type": "stream",
     "text": [
      " 32%|███▏      | 19/60 [01:10<02:35,  3.80s/it]"
     ]
    },
    {
     "name": "stdout",
     "output_type": "stream",
     "text": [
      "Time for epoch:  0.0023000240325927734\n",
      "Epoch:  20\n",
      "Train loader:  <torch_geometric.loader.dataloader.DataLoader object at 0x782681e69d30>\n"
     ]
    },
    {
     "name": "stderr",
     "output_type": "stream",
     "text": [
      " 33%|███▎      | 20/60 [01:13<02:29,  3.73s/it]"
     ]
    },
    {
     "name": "stdout",
     "output_type": "stream",
     "text": [
      "Time for epoch:  0.002758026123046875\n",
      "Epoch:  21\n",
      "Train loader:  <torch_geometric.loader.dataloader.DataLoader object at 0x782681e69d30>\n"
     ]
    },
    {
     "name": "stderr",
     "output_type": "stream",
     "text": [
      " 35%|███▌      | 21/60 [01:17<02:26,  3.75s/it]"
     ]
    },
    {
     "name": "stdout",
     "output_type": "stream",
     "text": [
      "Time for epoch:  0.002615690231323242\n",
      "Epoch:  22\n",
      "Train loader:  <torch_geometric.loader.dataloader.DataLoader object at 0x782681e69d30>\n"
     ]
    },
    {
     "name": "stderr",
     "output_type": "stream",
     "text": [
      " 37%|███▋      | 22/60 [01:21<02:21,  3.72s/it]"
     ]
    },
    {
     "name": "stdout",
     "output_type": "stream",
     "text": [
      "Time for epoch:  0.005480527877807617\n",
      "Epoch:  23\n",
      "Train loader:  <torch_geometric.loader.dataloader.DataLoader object at 0x782681e69d30>\n"
     ]
    },
    {
     "name": "stderr",
     "output_type": "stream",
     "text": [
      " 38%|███▊      | 23/60 [01:24<02:17,  3.71s/it]"
     ]
    },
    {
     "name": "stdout",
     "output_type": "stream",
     "text": [
      "Time for epoch:  0.002760648727416992\n",
      "Epoch:  24\n",
      "Train loader:  <torch_geometric.loader.dataloader.DataLoader object at 0x782681e69d30>\n"
     ]
    },
    {
     "name": "stderr",
     "output_type": "stream",
     "text": [
      " 40%|████      | 24/60 [01:28<02:10,  3.64s/it]"
     ]
    },
    {
     "name": "stdout",
     "output_type": "stream",
     "text": [
      "Time for epoch:  0.002034425735473633\n",
      "Epoch:  25\n",
      "Train loader:  <torch_geometric.loader.dataloader.DataLoader object at 0x782681e69d30>\n"
     ]
    },
    {
     "name": "stderr",
     "output_type": "stream",
     "text": [
      " 42%|████▏     | 25/60 [01:31<02:06,  3.61s/it]"
     ]
    },
    {
     "name": "stdout",
     "output_type": "stream",
     "text": [
      "Time for epoch:  0.002767324447631836\n",
      "Epoch:  26\n",
      "Train loader:  <torch_geometric.loader.dataloader.DataLoader object at 0x782681e69d30>\n"
     ]
    },
    {
     "name": "stderr",
     "output_type": "stream",
     "text": [
      " 43%|████▎     | 26/60 [01:35<02:02,  3.60s/it]"
     ]
    },
    {
     "name": "stdout",
     "output_type": "stream",
     "text": [
      "Time for epoch:  0.002507448196411133\n",
      "Epoch:  27\n",
      "Train loader:  <torch_geometric.loader.dataloader.DataLoader object at 0x782681e69d30>\n"
     ]
    },
    {
     "name": "stderr",
     "output_type": "stream",
     "text": [
      " 45%|████▌     | 27/60 [01:39<01:59,  3.61s/it]"
     ]
    },
    {
     "name": "stdout",
     "output_type": "stream",
     "text": [
      "Time for epoch:  0.005632877349853516\n",
      "Epoch:  28\n",
      "Train loader:  <torch_geometric.loader.dataloader.DataLoader object at 0x782681e69d30>\n"
     ]
    },
    {
     "name": "stderr",
     "output_type": "stream",
     "text": [
      " 47%|████▋     | 28/60 [01:42<01:55,  3.59s/it]"
     ]
    },
    {
     "name": "stdout",
     "output_type": "stream",
     "text": [
      "Time for epoch:  0.002237558364868164\n",
      "Epoch:  29\n",
      "Train loader:  <torch_geometric.loader.dataloader.DataLoader object at 0x782681e69d30>\n"
     ]
    },
    {
     "name": "stderr",
     "output_type": "stream",
     "text": [
      " 48%|████▊     | 29/60 [01:46<01:52,  3.61s/it]"
     ]
    },
    {
     "name": "stdout",
     "output_type": "stream",
     "text": [
      "Time for epoch:  0.0021038055419921875\n",
      "Epoch:  30\n",
      "Train loader:  <torch_geometric.loader.dataloader.DataLoader object at 0x782681e69d30>\n"
     ]
    },
    {
     "name": "stderr",
     "output_type": "stream",
     "text": [
      " 50%|█████     | 30/60 [01:50<01:48,  3.62s/it]"
     ]
    },
    {
     "name": "stdout",
     "output_type": "stream",
     "text": [
      "Time for epoch:  0.005387783050537109\n",
      "Epoch:  31\n",
      "Train loader:  <torch_geometric.loader.dataloader.DataLoader object at 0x782681e69d30>\n"
     ]
    },
    {
     "name": "stderr",
     "output_type": "stream",
     "text": [
      " 52%|█████▏    | 31/60 [01:53<01:44,  3.62s/it]"
     ]
    },
    {
     "name": "stdout",
     "output_type": "stream",
     "text": [
      "Time for epoch:  0.002546072006225586\n",
      "Epoch:  32\n",
      "Train loader:  <torch_geometric.loader.dataloader.DataLoader object at 0x782681e69d30>\n"
     ]
    },
    {
     "name": "stderr",
     "output_type": "stream",
     "text": [
      " 53%|█████▎    | 32/60 [01:57<01:42,  3.68s/it]"
     ]
    },
    {
     "name": "stdout",
     "output_type": "stream",
     "text": [
      "Time for epoch:  0.002328157424926758\n",
      "Epoch:  33\n",
      "Train loader:  <torch_geometric.loader.dataloader.DataLoader object at 0x782681e69d30>\n"
     ]
    },
    {
     "name": "stderr",
     "output_type": "stream",
     "text": [
      " 55%|█████▌    | 33/60 [02:01<01:39,  3.70s/it]"
     ]
    },
    {
     "name": "stdout",
     "output_type": "stream",
     "text": [
      "Time for epoch:  0.0029296875\n",
      "Epoch:  34\n",
      "Train loader:  <torch_geometric.loader.dataloader.DataLoader object at 0x782681e69d30>\n"
     ]
    },
    {
     "name": "stderr",
     "output_type": "stream",
     "text": [
      " 57%|█████▋    | 34/60 [02:04<01:36,  3.70s/it]"
     ]
    },
    {
     "name": "stdout",
     "output_type": "stream",
     "text": [
      "Time for epoch:  0.0031147003173828125\n",
      "Epoch:  35\n",
      "Train loader:  <torch_geometric.loader.dataloader.DataLoader object at 0x782681e69d30>\n"
     ]
    },
    {
     "name": "stderr",
     "output_type": "stream",
     "text": [
      " 58%|█████▊    | 35/60 [02:08<01:32,  3.71s/it]"
     ]
    },
    {
     "name": "stdout",
     "output_type": "stream",
     "text": [
      "Time for epoch:  0.004157304763793945\n",
      "Epoch:  36\n",
      "Train loader:  <torch_geometric.loader.dataloader.DataLoader object at 0x782681e69d30>\n"
     ]
    },
    {
     "name": "stderr",
     "output_type": "stream",
     "text": [
      " 60%|██████    | 36/60 [02:12<01:27,  3.66s/it]"
     ]
    },
    {
     "name": "stdout",
     "output_type": "stream",
     "text": [
      "Time for epoch:  0.0027604103088378906\n",
      "Epoch:  37\n",
      "Train loader:  <torch_geometric.loader.dataloader.DataLoader object at 0x782681e69d30>\n"
     ]
    },
    {
     "name": "stderr",
     "output_type": "stream",
     "text": [
      " 62%|██████▏   | 37/60 [02:15<01:24,  3.67s/it]"
     ]
    },
    {
     "name": "stdout",
     "output_type": "stream",
     "text": [
      "Time for epoch:  0.002325296401977539\n",
      "Epoch:  38\n",
      "Train loader:  <torch_geometric.loader.dataloader.DataLoader object at 0x782681e69d30>\n"
     ]
    },
    {
     "name": "stderr",
     "output_type": "stream",
     "text": [
      " 63%|██████▎   | 38/60 [02:19<01:20,  3.65s/it]"
     ]
    },
    {
     "name": "stdout",
     "output_type": "stream",
     "text": [
      "Time for epoch:  0.0027532577514648438\n",
      "Epoch:  39\n",
      "Train loader:  <torch_geometric.loader.dataloader.DataLoader object at 0x782681e69d30>\n"
     ]
    },
    {
     "name": "stderr",
     "output_type": "stream",
     "text": [
      " 65%|██████▌   | 39/60 [02:23<01:16,  3.64s/it]"
     ]
    },
    {
     "name": "stdout",
     "output_type": "stream",
     "text": [
      "Time for epoch:  0.0028810501098632812\n",
      "Epoch:  40\n",
      "Train loader:  <torch_geometric.loader.dataloader.DataLoader object at 0x782681e69d30>\n"
     ]
    },
    {
     "name": "stderr",
     "output_type": "stream",
     "text": [
      " 67%|██████▋   | 40/60 [02:26<01:12,  3.64s/it]"
     ]
    },
    {
     "name": "stdout",
     "output_type": "stream",
     "text": [
      "Time for epoch:  0.003753662109375\n",
      "Epoch:  41\n",
      "Train loader:  <torch_geometric.loader.dataloader.DataLoader object at 0x782681e69d30>\n"
     ]
    },
    {
     "name": "stderr",
     "output_type": "stream",
     "text": [
      " 68%|██████▊   | 41/60 [02:30<01:08,  3.63s/it]"
     ]
    },
    {
     "name": "stdout",
     "output_type": "stream",
     "text": [
      "Time for epoch:  0.0023245811462402344\n",
      "Epoch:  42\n",
      "Train loader:  <torch_geometric.loader.dataloader.DataLoader object at 0x782681e69d30>\n"
     ]
    },
    {
     "name": "stderr",
     "output_type": "stream",
     "text": [
      " 70%|███████   | 42/60 [02:33<01:05,  3.64s/it]"
     ]
    },
    {
     "name": "stdout",
     "output_type": "stream",
     "text": [
      "Time for epoch:  0.0038764476776123047\n",
      "Epoch:  43\n",
      "Train loader:  <torch_geometric.loader.dataloader.DataLoader object at 0x782681e69d30>\n"
     ]
    },
    {
     "name": "stderr",
     "output_type": "stream",
     "text": [
      " 72%|███████▏  | 43/60 [02:37<01:02,  3.66s/it]"
     ]
    },
    {
     "name": "stdout",
     "output_type": "stream",
     "text": [
      "Time for epoch:  0.002994060516357422\n",
      "Epoch:  44\n",
      "Train loader:  <torch_geometric.loader.dataloader.DataLoader object at 0x782681e69d30>\n"
     ]
    },
    {
     "name": "stderr",
     "output_type": "stream",
     "text": [
      " 73%|███████▎  | 44/60 [02:41<00:58,  3.66s/it]"
     ]
    },
    {
     "name": "stdout",
     "output_type": "stream",
     "text": [
      "Time for epoch:  0.0020720958709716797\n",
      "Epoch:  45\n",
      "Train loader:  <torch_geometric.loader.dataloader.DataLoader object at 0x782681e69d30>\n"
     ]
    },
    {
     "name": "stderr",
     "output_type": "stream",
     "text": [
      " 75%|███████▌  | 45/60 [02:45<00:55,  3.68s/it]"
     ]
    },
    {
     "name": "stdout",
     "output_type": "stream",
     "text": [
      "Time for epoch:  0.006390094757080078\n",
      "Epoch:  46\n",
      "Train loader:  <torch_geometric.loader.dataloader.DataLoader object at 0x782681e69d30>\n"
     ]
    },
    {
     "name": "stderr",
     "output_type": "stream",
     "text": [
      " 77%|███████▋  | 46/60 [02:48<00:51,  3.66s/it]"
     ]
    },
    {
     "name": "stdout",
     "output_type": "stream",
     "text": [
      "Time for epoch:  0.00260162353515625\n",
      "Epoch:  47\n",
      "Train loader:  <torch_geometric.loader.dataloader.DataLoader object at 0x782681e69d30>\n"
     ]
    },
    {
     "name": "stderr",
     "output_type": "stream",
     "text": [
      " 78%|███████▊  | 47/60 [02:52<00:48,  3.72s/it]"
     ]
    },
    {
     "name": "stdout",
     "output_type": "stream",
     "text": [
      "Time for epoch:  0.0029592514038085938\n",
      "Epoch:  48\n",
      "Train loader:  <torch_geometric.loader.dataloader.DataLoader object at 0x782681e69d30>\n"
     ]
    },
    {
     "name": "stderr",
     "output_type": "stream",
     "text": [
      " 80%|████████  | 48/60 [02:56<00:44,  3.69s/it]"
     ]
    },
    {
     "name": "stdout",
     "output_type": "stream",
     "text": [
      "Time for epoch:  0.0023398399353027344\n",
      "Epoch:  49\n",
      "Train loader:  <torch_geometric.loader.dataloader.DataLoader object at 0x782681e69d30>\n"
     ]
    },
    {
     "name": "stderr",
     "output_type": "stream",
     "text": [
      " 82%|████████▏ | 49/60 [02:59<00:40,  3.69s/it]"
     ]
    },
    {
     "name": "stdout",
     "output_type": "stream",
     "text": [
      "Time for epoch:  0.002132892608642578\n",
      "Epoch:  50\n",
      "Train loader:  <torch_geometric.loader.dataloader.DataLoader object at 0x782681e69d30>\n"
     ]
    },
    {
     "name": "stderr",
     "output_type": "stream",
     "text": [
      " 83%|████████▎ | 50/60 [03:03<00:36,  3.65s/it]"
     ]
    },
    {
     "name": "stdout",
     "output_type": "stream",
     "text": [
      "Time for epoch:  0.0025582313537597656\n",
      "Epoch:  51\n",
      "Train loader:  <torch_geometric.loader.dataloader.DataLoader object at 0x782681e69d30>\n"
     ]
    },
    {
     "name": "stderr",
     "output_type": "stream",
     "text": [
      " 85%|████████▌ | 51/60 [03:07<00:33,  3.68s/it]"
     ]
    },
    {
     "name": "stdout",
     "output_type": "stream",
     "text": [
      "Time for epoch:  0.002964019775390625\n",
      "Epoch:  52\n",
      "Train loader:  <torch_geometric.loader.dataloader.DataLoader object at 0x782681e69d30>\n"
     ]
    },
    {
     "name": "stderr",
     "output_type": "stream",
     "text": [
      " 87%|████████▋ | 52/60 [03:10<00:29,  3.69s/it]"
     ]
    },
    {
     "name": "stdout",
     "output_type": "stream",
     "text": [
      "Time for epoch:  0.0069119930267333984\n",
      "Epoch:  53\n",
      "Train loader:  <torch_geometric.loader.dataloader.DataLoader object at 0x782681e69d30>\n"
     ]
    },
    {
     "name": "stderr",
     "output_type": "stream",
     "text": [
      " 88%|████████▊ | 53/60 [03:14<00:25,  3.68s/it]"
     ]
    },
    {
     "name": "stdout",
     "output_type": "stream",
     "text": [
      "Time for epoch:  0.002559185028076172\n",
      "Epoch:  54\n",
      "Train loader:  <torch_geometric.loader.dataloader.DataLoader object at 0x782681e69d30>\n"
     ]
    },
    {
     "name": "stderr",
     "output_type": "stream",
     "text": [
      " 90%|█████████ | 54/60 [03:18<00:22,  3.67s/it]"
     ]
    },
    {
     "name": "stdout",
     "output_type": "stream",
     "text": [
      "Time for epoch:  0.0034372806549072266\n",
      "Epoch:  55\n",
      "Train loader:  <torch_geometric.loader.dataloader.DataLoader object at 0x782681e69d30>\n"
     ]
    },
    {
     "name": "stderr",
     "output_type": "stream",
     "text": [
      " 92%|█████████▏| 55/60 [03:21<00:18,  3.64s/it]"
     ]
    },
    {
     "name": "stdout",
     "output_type": "stream",
     "text": [
      "Time for epoch:  0.0028219223022460938\n",
      "Epoch:  56\n",
      "Train loader:  <torch_geometric.loader.dataloader.DataLoader object at 0x782681e69d30>\n"
     ]
    },
    {
     "name": "stderr",
     "output_type": "stream",
     "text": [
      " 93%|█████████▎| 56/60 [03:25<00:14,  3.66s/it]"
     ]
    },
    {
     "name": "stdout",
     "output_type": "stream",
     "text": [
      "Time for epoch:  0.0026121139526367188\n",
      "Epoch:  57\n",
      "Train loader:  <torch_geometric.loader.dataloader.DataLoader object at 0x782681e69d30>\n"
     ]
    },
    {
     "name": "stderr",
     "output_type": "stream",
     "text": [
      " 95%|█████████▌| 57/60 [03:29<00:10,  3.65s/it]"
     ]
    },
    {
     "name": "stdout",
     "output_type": "stream",
     "text": [
      "Time for epoch:  0.0023202896118164062\n",
      "Epoch:  58\n",
      "Train loader:  <torch_geometric.loader.dataloader.DataLoader object at 0x782681e69d30>\n"
     ]
    },
    {
     "name": "stderr",
     "output_type": "stream",
     "text": [
      " 97%|█████████▋| 58/60 [03:32<00:07,  3.63s/it]"
     ]
    },
    {
     "name": "stdout",
     "output_type": "stream",
     "text": [
      "Time for epoch:  0.002115964889526367\n",
      "Epoch:  59\n",
      "Train loader:  <torch_geometric.loader.dataloader.DataLoader object at 0x782681e69d30>\n"
     ]
    },
    {
     "name": "stderr",
     "output_type": "stream",
     "text": [
      " 98%|█████████▊| 59/60 [03:36<00:03,  3.63s/it]"
     ]
    },
    {
     "name": "stdout",
     "output_type": "stream",
     "text": [
      "Time for epoch:  0.002593517303466797\n",
      "Epoch:  60\n",
      "Train loader:  <torch_geometric.loader.dataloader.DataLoader object at 0x782681e69d30>\n"
     ]
    },
    {
     "name": "stderr",
     "output_type": "stream",
     "text": [
      "100%|██████████| 60/60 [03:39<00:00,  3.67s/it]"
     ]
    },
    {
     "name": "stdout",
     "output_type": "stream",
     "text": [
      "Time for epoch:  0.0027108192443847656\n"
     ]
    },
    {
     "name": "stderr",
     "output_type": "stream",
     "text": [
      "\n"
     ]
    }
   ],
   "source": [
    "import torch\n",
    "import json\n",
    "import importlib\n",
    "import solution\n",
    "import solution.models\n",
    "import solution.models.basic\n",
    "f = open(\"solution/parameters.json\")\n",
    "parameters = json.load(f)\n",
    "hparams = parameters[\"simulator_extra_parameters\"]\n",
    "\n",
    "device = torch.device(\"cuda:0\")\n",
    "module = importlib.import_module(\"solution.\" + parameters[\"simulator_config\"][\"simulator_file\"])\n",
    "importlib.reload(module)\n",
    "Network = getattr(module, parameters[\"simulator_config\"][\"model\"])\n",
    "global_train = getattr(module, \"global_train\")\n",
    "network = Network(**hparams)\n",
    "network.train(benchmark.train_dataset,\n",
    "             local=True)"
   ]
  }
 ],
 "metadata": {
  "kernelspec": {
   "display_name": "env",
   "language": "python",
   "name": "python3"
  },
  "language_info": {
   "codemirror_mode": {
    "name": "ipython",
    "version": 3
   },
   "file_extension": ".py",
   "mimetype": "text/x-python",
   "name": "python",
   "nbconvert_exporter": "python",
   "pygments_lexer": "ipython3",
   "version": "3.8.20"
  }
 },
 "nbformat": 4,
 "nbformat_minor": 2
}
