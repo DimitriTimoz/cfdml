{
 "cells": [
  {
   "cell_type": "code",
   "execution_count": 1,
   "metadata": {},
   "outputs": [
    {
     "name": "stderr",
     "output_type": "stream",
     "text": [
      "2024-10-11 10:43:11.171131: I tensorflow/core/platform/cpu_feature_guard.cc:182] This TensorFlow binary is optimized to use available CPU instructions in performance-critical operations.\n",
      "To enable the following instructions: SSE4.1 SSE4.2 AVX AVX2 AVX512F AVX512_VNNI FMA, in other operations, rebuild TensorFlow with the appropriate compiler flags.\n",
      "/home/xaviern/.conda/envs/cfdMl-clean/lib/python3.10/site-packages/torch_geometric/typing.py:113: UserWarning: An issue occurred while importing 'torch-spline-conv'. Disabling its usage. Stacktrace: /home/xaviern/.conda/envs/cfdMl-clean/lib/python3.10/site-packages/torch_spline_conv/_version_cpu.so: undefined symbol: _ZN5torch3jit17parseSchemaOrNameERKSsb\n",
      "  warnings.warn(\n"
     ]
    }
   ],
   "source": [
    "import tensorflow as tf\n",
    "import os\n",
    "import json\n",
    "import functools\n",
    "import pyvista as pv\n",
    "import numpy as np\n",
    "from utils import *"
   ]
  },
  {
   "cell_type": "code",
   "execution_count": 2,
   "metadata": {},
   "outputs": [],
   "source": [
    "def plot_graph(data, l=1, plotter=None, node_colors=None):\n",
    "    \n",
    "    c = ['r', 'g', 'b', 'm']\n",
    "    \n",
    "    p = pv.Plotter() if plotter is None else plotter\n",
    "    \n",
    "    # Création d'un PolyData pour les points (nœuds)\n",
    "    mesh = pv.PolyData()\n",
    "    \n",
    "    # Gestion des dimensions des positions\n",
    "    if data.pos.shape[1] != 3:\n",
    "        # Ajouter une troisième dimension si nécessaire\n",
    "        mesh.points = np.concatenate([data.pos.cpu().numpy(), np.full((data.pos.shape[0], 1), l)], axis=1)\n",
    "    else:\n",
    "        mesh.points = data.pos.cpu().numpy()\n",
    "\n",
    "    # Création des lignes pour les arêtes\n",
    "    edges = data.edge_index.t().cpu().numpy()\n",
    "    lines = np.hstack([np.full((edges.shape[0], 1), 2), edges]).ravel()\n",
    "    mesh.lines = lines\n",
    "    \n",
    "    \n",
    "    # Ajout des couleurs au PolyData\n",
    "    mesh.point_data['values'] = node_colors if node_colors is not None else np.random.randint(0, 255, size=(data.pos.shape[0], 3))\n",
    "    \n",
    "    # Ajouter le mesh avec les couleurs des nœuds\n",
    "    p.add_mesh(mesh, scalars='values', line_width=0.5, point_size=0.3, render_points_as_spheres=True)\n",
    "\n",
    "    # Si aucun plotter n'a été fourni, on montre la figure\n",
    "    if plotter is None:\n",
    "        p.show()"
   ]
  },
  {
   "cell_type": "code",
   "execution_count": 3,
   "metadata": {},
   "outputs": [],
   "source": [
    "def _parse(proto, meta):\n",
    "  \"\"\"Parses a trajectory from tf.Example.\"\"\"\n",
    "  feature_lists = {k: tf.io.VarLenFeature(tf.string)\n",
    "                   for k in meta['field_names']}\n",
    "  features = tf.io.parse_single_example(proto, feature_lists)\n",
    "  out = {}\n",
    "  for key, field in meta['features'].items():\n",
    "    data = tf.io.decode_raw(features[key].values, getattr(tf, field['dtype']))\n",
    "    data = tf.reshape(data, field['shape'])\n",
    "    if field['type'] == 'static':\n",
    "      data = tf.tile(data, [meta['trajectory_length'], 1, 1])\n",
    "    elif field['type'] == 'dynamic_varlen':\n",
    "      length = tf.io.decode_raw(features['length_'+key].values, tf.int32)\n",
    "      length = tf.reshape(length, [-1])\n",
    "      data = tf.RaggedTensor.from_row_lengths(data, row_lengths=length)\n",
    "    elif field['type'] != 'dynamic':\n",
    "      raise ValueError('invalid data format')\n",
    "    out[key] = data\n",
    "  return out\n",
    "\n",
    "def load_dataset(path, split):\n",
    "  \"\"\"Load dataset.\"\"\"\n",
    "  with open(os.path.join(path, 'meta.json'), 'r') as fp:\n",
    "    meta = json.loads(fp.read())\n",
    "  ds = tf.data.TFRecordDataset(os.path.join(path, split+'.tfrecord'))\n",
    "  ds = ds.map(functools.partial(_parse, meta=meta), num_parallel_calls=8)\n",
    "  ds = ds.prefetch(1)\n",
    "  return ds"
   ]
  },
  {
   "cell_type": "code",
   "execution_count": 4,
   "metadata": {},
   "outputs": [
    {
     "name": "stderr",
     "output_type": "stream",
     "text": [
      "2024-10-11 10:43:19.581850: I tensorflow/core/common_runtime/process_util.cc:146] Creating new thread pool with default inter op setting: 2. Tune using inter_op_parallelism_threads for best performance.\n"
     ]
    }
   ],
   "source": [
    "train_ds = load_dataset(\"../../DATA/cylinder_flow\", 'train')\n",
    "val_ds = load_dataset(\"../../DATA/cylinder_flow\", 'valid')\n",
    "test_ds = load_dataset(\"../../DATA/cylinder_flow\", 'test')"
   ]
  },
  {
   "cell_type": "code",
   "execution_count": 5,
   "metadata": {},
   "outputs": [],
   "source": [
    "from torch_geometric.data import Data\n",
    "import torch\n",
    "from utils import  DelaunayTransform\n",
    "from torch_geometric.loader import DataLoader\n"
   ]
  },
  {
   "cell_type": "code",
   "execution_count": 33,
   "metadata": {},
   "outputs": [],
   "source": [
    "def prepare_dataset_fraction(ds, max: int):\n",
    "    transform = DelaunayTransform()\n",
    "    dataset = []\n",
    "    ds_iter = iter(ds)\n",
    "    for i in range(max):\n",
    "        obs = next(ds_iter)\n",
    "        new_obs = {}\n",
    "        for key, value in obs.items():\n",
    "            if 'mesh' in key or 'cells' in key or 'node_type' in key:\n",
    "                key = key.replace('mesh_', '')\n",
    "                new_obs[key] = torch.Tensor(value[0].numpy())\n",
    "            else:\n",
    "                new_obs[\"x_\" + key] = torch.Tensor(value[0].numpy())\n",
    "                new_obs[\"y_\" + key] = torch.Tensor(value[-1].numpy())\n",
    "        surf = torch.Tensor((obs['velocity'][0][:] == 0.0).numpy())\n",
    "        surf = torch.logical_and(surf[:, 0], surf[:, 1])\n",
    "        x = torch.cat([new_obs['x_velocity'], new_obs['x_pressure'], surf.unsqueeze(1)], dim=1)\n",
    "        y = torch.cat([new_obs['y_velocity'], new_obs['y_pressure']], dim=1)\n",
    "        data = transform(Data(pos=new_obs[\"pos\"], surf=surf, x=x, y=y))\n",
    "        data = generate_coarse_graphs(data, 3, 4)\n",
    "        dataset.append(data)\n",
    "    data_loader = DataLoader(dataset=dataset, batch_size=1)\n",
    "    return data_loader\n",
    "train_loader = prepare_dataset_fraction(train_ds, 50)\n",
    "val_loader = prepare_dataset_fraction(val_ds, 100)\n",
    "test_loader = prepare_dataset_fraction(test_ds, 100)"
   ]
  },
  {
   "cell_type": "code",
   "execution_count": 7,
   "metadata": {},
   "outputs": [],
   "source": [
    "import importlib\n",
    "import utils\n",
    "importlib.reload(utils)\n",
    "import my_model_mlp\n",
    "from utils import *"
   ]
  },
  {
   "cell_type": "code",
   "execution_count": 8,
   "metadata": {},
   "outputs": [
    {
     "name": "stdout",
     "output_type": "stream",
     "text": [
      "cpu\n"
     ]
    }
   ],
   "source": [
    "#plot_graph(generate_coarse_graphs(next(iter(data_loader)), R=3, K=4, visualize=True))\n",
    "device = torch.device('cuda' if torch.cuda.is_available() else 'cpu')  \n",
    "print(device)"
   ]
  },
  {
   "cell_type": "code",
   "execution_count": 24,
   "metadata": {},
   "outputs": [],
   "source": [
    "def validate(model, loader, device):\n",
    "    model.eval()\n",
    "    loss = 0\n",
    "    for data in loader:\n",
    "        data = data.to(device)\n",
    "        with torch.no_grad():\n",
    "            out = model(data)\n",
    "            loss += torch.nn.functional.mse_loss(out, data.y).item()\n",
    "    return loss / len(loader)"
   ]
  },
  {
   "cell_type": "code",
   "execution_count": 59,
   "metadata": {},
   "outputs": [],
   "source": [
    "importlib.reload(my_model_mlp)\n",
    "import my_model_mlp"
   ]
  },
  {
   "cell_type": "code",
   "execution_count": 35,
   "metadata": {},
   "outputs": [],
   "source": [
    "model = my_model_mlp.MyMlp(4, 3, device, [64, 64, 8, 64, 64, 64, 8, 64, 64])\n",
    "optimizer = torch.optim.Adam(model.parameters(), lr=0.002)\n",
    "#lr_scheduler = torch.optim.lr_scheduler.StepLR(optimizer, step_size=100, gamma=0.5)\n",
    "model = model.to(device)"
   ]
  },
  {
   "cell_type": "code",
   "execution_count": 36,
   "metadata": {},
   "outputs": [
    {
     "name": "stdout",
     "output_type": "stream",
     "text": [
      "Epoch 0 Loss 0.84418133020401\n",
      "Validation Loss 1.3253152751922608\n",
      "Epoch 1 Loss 0.14668883938342334\n",
      "Validation Loss 0.13084306615404784\n",
      "Epoch 2 Loss 0.04205139324069023\n",
      "Validation Loss 0.12872541988734157\n",
      "Epoch 3 Loss 0.04273102091625333\n",
      "Validation Loss 0.132262643314898\n",
      "Epoch 4 Loss 0.03863339313305914\n",
      "Validation Loss 0.10442624198272825\n",
      "Epoch 5 Loss 0.03847688127309084\n",
      "Validation Loss 0.09954734886996448\n",
      "Epoch 6 Loss 0.036264718007296325\n",
      "Validation Loss 0.10342729012481869\n",
      "Epoch 7 Loss 0.039531163927167656\n",
      "Validation Loss 0.09899433649610728\n",
      "Epoch 8 Loss 0.0361375748552382\n",
      "Validation Loss 0.09706775208935142\n",
      "Epoch 9 Loss 0.03587067340500653\n",
      "Validation Loss 0.10289456200320274\n",
      "Epoch 10 Loss 0.03507627615705133\n",
      "Validation Loss 0.09582493877504021\n",
      "Epoch 11 Loss 0.03663691052235663\n",
      "Validation Loss 0.09632491858676076\n",
      "Epoch 12 Loss 0.03510722758248448\n",
      "Validation Loss 0.09479183905757964\n",
      "Epoch 13 Loss 0.034670518860220906\n",
      "Validation Loss 0.094531583734788\n",
      "Epoch 14 Loss 0.0346477167122066\n",
      "Validation Loss 0.09803625855594873\n",
      "Epoch 15 Loss 0.03473565274849534\n",
      "Validation Loss 0.09544311403296887\n",
      "Epoch 16 Loss 0.033994663543999194\n",
      "Validation Loss 0.09557937902864069\n",
      "Epoch 17 Loss 0.03401865963824093\n",
      "Validation Loss 0.09613504868466408\n",
      "Epoch 18 Loss 0.03422122685238719\n",
      "Validation Loss 0.09543404906522483\n",
      "Epoch 19 Loss 0.03746345898136497\n",
      "Validation Loss 0.09316182716749609\n",
      "Epoch 20 Loss 0.034862707629799844\n",
      "Validation Loss 0.09868901886045933\n",
      "Epoch 21 Loss 0.034618023289367555\n",
      "Validation Loss 0.09232708733063191\n",
      "Epoch 22 Loss 0.033516348730772735\n",
      "Validation Loss 0.0852192572504282\n",
      "Epoch 23 Loss 0.033067147778347135\n",
      "Validation Loss 0.08622820868622512\n",
      "Epoch 24 Loss 0.031921372124925254\n",
      "Validation Loss 0.08736043232493103\n",
      "Epoch 25 Loss 0.0318006444722414\n",
      "Validation Loss 0.08533788089174778\n",
      "Epoch 26 Loss 0.03104104024358094\n",
      "Validation Loss 0.08495555408764631\n",
      "Epoch 27 Loss 0.03178794130682945\n",
      "Validation Loss 0.09190946446266025\n",
      "Epoch 28 Loss 0.03250308448448777\n",
      "Validation Loss 0.08146320351865143\n",
      "Epoch 29 Loss 0.0314923211093992\n",
      "Validation Loss 0.0853139003040269\n"
     ]
    }
   ],
   "source": [
    "import matplotlib.pyplot as plt\n",
    "\n",
    "validation_losses = []\n",
    "train_losses = []\n",
    "for epoch in range(30):\n",
    "    loss_av = 0\n",
    "    i = 0\n",
    "    for data in train_loader:\n",
    "        data = data.to(device)\n",
    "        optimizer.zero_grad()\n",
    "        out = model(data)\n",
    "        if torch.isnan(out).any():\n",
    "            print(\"Nan\")\n",
    "        loss = torch.nn.functional.mse_loss(out, data.y)\n",
    "        loss_av += loss.item()\n",
    "        i += 1\n",
    "        loss.backward()\n",
    "        optimizer.step()\n",
    "    train_losses.append(loss_av/i)\n",
    "    validation_losses.append(validate(model, val_loader, device))\n",
    "    print(f\"Epoch {epoch} Loss {loss_av/i}\")\n",
    "    print(f\"Validation Loss {validation_losses[-1]}\")\n",
    "    \n",
    "\n"
   ]
  },
  {
   "cell_type": "code",
   "execution_count": 37,
   "metadata": {},
   "outputs": [
    {
     "data": {
      "text/plain": [
       "0.07539169426076114"
      ]
     },
     "execution_count": 37,
     "metadata": {},
     "output_type": "execute_result"
    }
   ],
   "source": [
    "validate(model, test_loader, device)"
   ]
  },
  {
   "cell_type": "code",
   "execution_count": 41,
   "metadata": {},
   "outputs": [
    {
     "data": {
      "image/png": "[encoded data removed]",
      "text/plain": [
       "<Figure size 640x480 with 1 Axes>"
      ]
     },
     "metadata": {},
     "output_type": "display_data"
    }
   ],
   "source": [
    "plt.plot(train_losses, label='train')\n",
    "plt.plot(validation_losses, label='validation')\n",
    "plt.legend()\n",
    "plt.yscale('log')"
   ]
  },
  {
   "cell_type": "code",
   "execution_count": 60,
   "metadata": {},
   "outputs": [],
   "source": [
    "model_pinn = my_model_mlp.MyMlp(4, 3, device, [64, 64, 8, 64, 64, 64, 8, 64, 64])\n",
    "optimizer = torch.optim.Adam(model.parameters(), lr=0.002)\n",
    "#lr_scheduler = torch.optim.lr_scheduler.StepLR(optimizer, step_size=100, gamma=0.5)\n",
    "model_pinn = model_pinn.to(device)"
   ]
  },
  {
   "cell_type": "code",
   "execution_count": 73,
   "metadata": {},
   "outputs": [],
   "source": [
    "def pinn_loss(out, features):\n",
    "    \n",
    "    u = out[:, 0]\n",
    "    v = out[:, 1]\n",
    "    p = out[:, 2]\n",
    "        \n",
    "    x = features[:, 0]\n",
    "    y = features[:, 1]\n",
    "    \n",
    "    print(out)\n",
    "    \n",
    "\n",
    "    rho_inv = 1.0/1.225\n",
    "\n",
    "    nu = 1.55e-5\n",
    "\n",
    "    u_x = torch.autograd.grad(out[:, 0], features[:,0], torch.ones_like(out[:, 0]), create_graph=True)[0]\n",
    "    v_y = torch.autograd.grad(v, y, torch.ones_like(v), create_graph=True)[0]\n",
    "    \n",
    "    u_y = torch.autograd.grad(u, y, torch.ones_like(u), create_graph=True)[0]\n",
    "    v_x = torch.autograd.grad(v, x, torch.ones_like(v), create_graph=True)[0]\n",
    "    \n",
    "    p_x = torch.autograd.grad(p, x, torch.ones_like(p), create_graph=True)[0]\n",
    "    p_y = torch.autograd.grad(p, y, torch.ones_like(p), create_graph=True)[0]\n",
    "    \n",
    "    u_xx = torch.autograd.grad(u_x, x, torch.ones_like(u_x), create_graph=False)[0]\n",
    "    v_yy = torch.autograd.grad(v_y, y, torch.ones_like(v_y), create_graph=False)[0]\n",
    "    \n",
    "    u_yy = torch.autograd.grad(u_y, y, torch.ones_like(u_y), create_graph=False)[0]\n",
    "    v_xx = torch.autograd.grad(v_x, x, torch.ones_like(v_x), create_graph=False)[0]\n",
    "    \n",
    "    \n",
    "    laplace_u = u_xx + v_yy\n",
    "    \n",
    "    r1 = u_x + v_y\n",
    "    \n",
    "    r2 = u*u_x + v*u_y + p_x*rho_inv - (nu)*(u_xx + u_yy)\n",
    "    r3 = u*v_x + v*v_y + p_y*rho_inv - (nu)*(v_xx + v_yy)\n",
    "    x.requires_grad_(False)\n",
    "    y.requires_grad_(False)\n",
    "\n",
    "    return torch.mean((r1**2 + r2**2 + r3**2))"
   ]
  },
  {
   "cell_type": "code",
   "execution_count": 56,
   "metadata": {},
   "outputs": [
    {
     "name": "stdout",
     "output_type": "stream",
     "text": [
      "torch.Size([2678, 4])\n"
     ]
    }
   ],
   "source": [
    "data = next(iter(train_loader))\n",
    "print(data.x.shape)"
   ]
  },
  {
   "cell_type": "code",
   "execution_count": 74,
   "metadata": {},
   "outputs": [
    {
     "name": "stdout",
     "output_type": "stream",
     "text": [
      "tensor([[ 0.0779,  0.0000,  0.8122,  0.0000],\n",
      "        [ 0.0394,  0.0000,  0.8222,  0.0000],\n",
      "        [ 0.1001, -0.0809,  0.8457,  0.0000],\n",
      "        ...,\n",
      "        [ 0.0000,  0.0000,  0.0041,  1.0000],\n",
      "        [ 0.2780, -0.0038,  0.0232,  0.0000],\n",
      "        [ 0.0000,  0.0000,  0.0286,  1.0000]], requires_grad=True)\n",
      "tensor([[-0.6601,  0.9579, -0.2719],\n",
      "        [ 1.0496, -0.6177,  0.2818],\n",
      "        [-0.6601,  0.4306,  0.2677],\n",
      "        ...,\n",
      "        [-0.6601, -0.6114,  0.0316],\n",
      "        [-0.6601, -0.2476,  1.3532],\n",
      "        [ 2.5123, -0.6177,  1.8597]], grad_fn=<PermuteBackward0>)\n"
     ]
    },
    {
     "ename": "RuntimeError",
     "evalue": "One of the differentiated Tensors appears to not have been used in the graph. Set allow_unused=True if this is the desired behavior.",
     "output_type": "error",
     "traceback": [
      "\u001b[0;31m---------------------------------------------------------------------------\u001b[0m",
      "\u001b[0;31mRuntimeError\u001b[0m                              Traceback (most recent call last)",
      "Cell \u001b[0;32mIn[74], line 19\u001b[0m\n\u001b[1;32m     17\u001b[0m     \u001b[38;5;28mprint\u001b[39m(\u001b[38;5;124m\"\u001b[39m\u001b[38;5;124mNan\u001b[39m\u001b[38;5;124m\"\u001b[39m)\n\u001b[1;32m     18\u001b[0m \u001b[38;5;28mprint\u001b[39m(_in)\n\u001b[0;32m---> 19\u001b[0m pinn_loss_value \u001b[38;5;241m=\u001b[39m \u001b[43mpinn_loss\u001b[49m\u001b[43m(\u001b[49m\u001b[43mout\u001b[49m\u001b[43m,\u001b[49m\u001b[43m \u001b[49m\u001b[43m_in\u001b[49m\u001b[43m)\u001b[49m\n\u001b[1;32m     20\u001b[0m loss \u001b[38;5;241m=\u001b[39m torch\u001b[38;5;241m.\u001b[39mnn\u001b[38;5;241m.\u001b[39mfunctional\u001b[38;5;241m.\u001b[39mmse_loss(out, data\u001b[38;5;241m.\u001b[39my) \u001b[38;5;241m+\u001b[39m pinn_loss_value\n\u001b[1;32m     21\u001b[0m loss_av_pinn \u001b[38;5;241m+\u001b[39m\u001b[38;5;241m=\u001b[39m loss\u001b[38;5;241m.\u001b[39mitem()\n",
      "Cell \u001b[0;32mIn[73], line 17\u001b[0m, in \u001b[0;36mpinn_loss\u001b[0;34m(out, features)\u001b[0m\n\u001b[1;32m     13\u001b[0m rho_inv \u001b[38;5;241m=\u001b[39m \u001b[38;5;241m1.0\u001b[39m\u001b[38;5;241m/\u001b[39m\u001b[38;5;241m1.225\u001b[39m\n\u001b[1;32m     15\u001b[0m nu \u001b[38;5;241m=\u001b[39m \u001b[38;5;241m1.55e-5\u001b[39m\n\u001b[0;32m---> 17\u001b[0m u_x \u001b[38;5;241m=\u001b[39m \u001b[43mtorch\u001b[49m\u001b[38;5;241;43m.\u001b[39;49m\u001b[43mautograd\u001b[49m\u001b[38;5;241;43m.\u001b[39;49m\u001b[43mgrad\u001b[49m\u001b[43m(\u001b[49m\u001b[43mout\u001b[49m\u001b[43m[\u001b[49m\u001b[43m:\u001b[49m\u001b[43m,\u001b[49m\u001b[43m \u001b[49m\u001b[38;5;241;43m0\u001b[39;49m\u001b[43m]\u001b[49m\u001b[43m,\u001b[49m\u001b[43m \u001b[49m\u001b[43mfeatures\u001b[49m\u001b[43m[\u001b[49m\u001b[43m:\u001b[49m\u001b[43m,\u001b[49m\u001b[38;5;241;43m0\u001b[39;49m\u001b[43m]\u001b[49m\u001b[43m,\u001b[49m\u001b[43m \u001b[49m\u001b[43mtorch\u001b[49m\u001b[38;5;241;43m.\u001b[39;49m\u001b[43mones_like\u001b[49m\u001b[43m(\u001b[49m\u001b[43mout\u001b[49m\u001b[43m[\u001b[49m\u001b[43m:\u001b[49m\u001b[43m,\u001b[49m\u001b[43m \u001b[49m\u001b[38;5;241;43m0\u001b[39;49m\u001b[43m]\u001b[49m\u001b[43m)\u001b[49m\u001b[43m,\u001b[49m\u001b[43m \u001b[49m\u001b[43mcreate_graph\u001b[49m\u001b[38;5;241;43m=\u001b[39;49m\u001b[38;5;28;43;01mTrue\u001b[39;49;00m\u001b[43m)\u001b[49m[\u001b[38;5;241m0\u001b[39m]\n\u001b[1;32m     18\u001b[0m v_y \u001b[38;5;241m=\u001b[39m torch\u001b[38;5;241m.\u001b[39mautograd\u001b[38;5;241m.\u001b[39mgrad(v, y, torch\u001b[38;5;241m.\u001b[39mones_like(v), create_graph\u001b[38;5;241m=\u001b[39m\u001b[38;5;28;01mTrue\u001b[39;00m)[\u001b[38;5;241m0\u001b[39m]\n\u001b[1;32m     20\u001b[0m u_y \u001b[38;5;241m=\u001b[39m torch\u001b[38;5;241m.\u001b[39mautograd\u001b[38;5;241m.\u001b[39mgrad(u, y, torch\u001b[38;5;241m.\u001b[39mones_like(u), create_graph\u001b[38;5;241m=\u001b[39m\u001b[38;5;28;01mTrue\u001b[39;00m)[\u001b[38;5;241m0\u001b[39m]\n",
      "File \u001b[0;32m~/.conda/envs/cfdMl-clean/lib/python3.10/site-packages/torch/autograd/__init__.py:394\u001b[0m, in \u001b[0;36mgrad\u001b[0;34m(outputs, inputs, grad_outputs, retain_graph, create_graph, only_inputs, allow_unused, is_grads_batched, materialize_grads)\u001b[0m\n\u001b[1;32m    390\u001b[0m     result \u001b[38;5;241m=\u001b[39m _vmap_internals\u001b[38;5;241m.\u001b[39m_vmap(vjp, \u001b[38;5;241m0\u001b[39m, \u001b[38;5;241m0\u001b[39m, allow_none_pass_through\u001b[38;5;241m=\u001b[39m\u001b[38;5;28;01mTrue\u001b[39;00m)(\n\u001b[1;32m    391\u001b[0m         grad_outputs_\n\u001b[1;32m    392\u001b[0m     )\n\u001b[1;32m    393\u001b[0m \u001b[38;5;28;01melse\u001b[39;00m:\n\u001b[0;32m--> 394\u001b[0m     result \u001b[38;5;241m=\u001b[39m \u001b[43mVariable\u001b[49m\u001b[38;5;241;43m.\u001b[39;49m\u001b[43m_execution_engine\u001b[49m\u001b[38;5;241;43m.\u001b[39;49m\u001b[43mrun_backward\u001b[49m\u001b[43m(\u001b[49m\u001b[43m  \u001b[49m\u001b[38;5;66;43;03m# Calls into the C++ engine to run the backward pass\u001b[39;49;00m\n\u001b[1;32m    395\u001b[0m \u001b[43m        \u001b[49m\u001b[43mt_outputs\u001b[49m\u001b[43m,\u001b[49m\n\u001b[1;32m    396\u001b[0m \u001b[43m        \u001b[49m\u001b[43mgrad_outputs_\u001b[49m\u001b[43m,\u001b[49m\n\u001b[1;32m    397\u001b[0m \u001b[43m        \u001b[49m\u001b[43mretain_graph\u001b[49m\u001b[43m,\u001b[49m\n\u001b[1;32m    398\u001b[0m \u001b[43m        \u001b[49m\u001b[43mcreate_graph\u001b[49m\u001b[43m,\u001b[49m\n\u001b[1;32m    399\u001b[0m \u001b[43m        \u001b[49m\u001b[43mt_inputs\u001b[49m\u001b[43m,\u001b[49m\n\u001b[1;32m    400\u001b[0m \u001b[43m        \u001b[49m\u001b[43mallow_unused\u001b[49m\u001b[43m,\u001b[49m\n\u001b[1;32m    401\u001b[0m \u001b[43m        \u001b[49m\u001b[43maccumulate_grad\u001b[49m\u001b[38;5;241;43m=\u001b[39;49m\u001b[38;5;28;43;01mFalse\u001b[39;49;00m\u001b[43m,\u001b[49m\n\u001b[1;32m    402\u001b[0m \u001b[43m    \u001b[49m\u001b[43m)\u001b[49m  \u001b[38;5;66;03m# Calls into the C++ engine to run the backward pass\u001b[39;00m\n\u001b[1;32m    403\u001b[0m \u001b[38;5;28;01mif\u001b[39;00m materialize_grads:\n\u001b[1;32m    404\u001b[0m     result \u001b[38;5;241m=\u001b[39m \u001b[38;5;28mtuple\u001b[39m(\n\u001b[1;32m    405\u001b[0m         output\n\u001b[1;32m    406\u001b[0m         \u001b[38;5;28;01mif\u001b[39;00m output \u001b[38;5;129;01mis\u001b[39;00m \u001b[38;5;129;01mnot\u001b[39;00m \u001b[38;5;28;01mNone\u001b[39;00m\n\u001b[1;32m    407\u001b[0m         \u001b[38;5;28;01melse\u001b[39;00m torch\u001b[38;5;241m.\u001b[39mzeros_like(\u001b[38;5;28minput\u001b[39m, requires_grad\u001b[38;5;241m=\u001b[39m\u001b[38;5;28;01mTrue\u001b[39;00m)\n\u001b[1;32m    408\u001b[0m         \u001b[38;5;28;01mfor\u001b[39;00m (output, \u001b[38;5;28minput\u001b[39m) \u001b[38;5;129;01min\u001b[39;00m \u001b[38;5;28mzip\u001b[39m(result, t_inputs)\n\u001b[1;32m    409\u001b[0m     )\n",
      "\u001b[0;31mRuntimeError\u001b[0m: One of the differentiated Tensors appears to not have been used in the graph. Set allow_unused=True if this is the desired behavior."
     ]
    }
   ],
   "source": [
    "import matplotlib.pyplot as plt\n",
    "\n",
    "validation_losses_pinn = []\n",
    "pinn_losses = []\n",
    "train_losses_pinn = []\n",
    "for epoch in range(30):\n",
    "    loss_av_pinn = 0\n",
    "    pinn_loss_av = 0\n",
    "    i = 0\n",
    "    for data in train_loader:\n",
    "        data = data.to(device)\n",
    "        optimizer.zero_grad()\n",
    "        _in = data.x.clone()[:data.y.shape[0], :]\n",
    "        _in.requires_grad = True\n",
    "        out = model_pinn(_in)\n",
    "        if torch.isnan(out).any():\n",
    "            print(\"Nan\")\n",
    "        print(_in)\n",
    "        pinn_loss_value = pinn_loss(out, _in)\n",
    "        loss = torch.nn.functional.mse_loss(out, data.y) + pinn_loss_value\n",
    "        loss_av_pinn += loss.item()\n",
    "        pinn_loss_av += pinn_loss_value.item()\n",
    "        i += 1\n",
    "        loss.backward()\n",
    "        optimizer.step()\n",
    "    train_losses_pinn.append(loss_av_pinn/i)\n",
    "    validation_losses_pinn.append(validate(model_pinn, val_loader, device))\n",
    "    print(f\"Epoch {epoch} Loss {loss_av_pinn/i} PINN {pinn_loss_av/i}\")\n",
    "    print(f\"Validation Loss {validation_losses_pinn[-1]}\")\n",
    "    \n"
   ]
  }
 ],
 "metadata": {
  "kernelspec": {
   "display_name": "cfdMl-clean",
   "language": "python",
   "name": "python3"
  },
  "language_info": {
   "codemirror_mode": {
    "name": "ipython",
    "version": 3
   },
   "file_extension": ".py",
   "mimetype": "text/x-python",
   "name": "python",
   "nbconvert_exporter": "python",
   "pygments_lexer": "ipython3",
   "version": "3.10.13"
  }
 },
 "nbformat": 4,
 "nbformat_minor": 2
}
