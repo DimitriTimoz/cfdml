{
 "cells": [
  {
   "cell_type": "code",
   "execution_count": 50,
   "metadata": {},
   "outputs": [],
   "source": [
    "import tensorflow as tf\n",
    "import os\n",
    "import json\n",
    "import functools\n",
    "import pyvista as pv\n",
    "import numpy as np\n",
    "from utils import *"
   ]
  },
  {
   "cell_type": "code",
   "execution_count": 51,
   "metadata": {},
   "outputs": [],
   "source": [
    "def plot_graph(data, l=1, plotter=None, node_colors=None):\n",
    "    \n",
    "    c = ['r', 'g', 'b', 'm']\n",
    "    \n",
    "    p = pv.Plotter() if plotter is None else plotter\n",
    "    \n",
    "    # Création d'un PolyData pour les points (nœuds)\n",
    "    mesh = pv.PolyData()\n",
    "    \n",
    "    # Gestion des dimensions des positions\n",
    "    if data.pos.shape[1] != 3:\n",
    "        # Ajouter une troisième dimension si nécessaire\n",
    "        mesh.points = np.concatenate([data.pos.cpu().numpy(), np.full((data.pos.shape[0], 1), l)], axis=1)\n",
    "    else:\n",
    "        mesh.points = data.pos.cpu().numpy()\n",
    "\n",
    "    # Création des lignes pour les arêtes\n",
    "    edges = data.edge_index.t().cpu().numpy()\n",
    "    lines = np.hstack([np.full((edges.shape[0], 1), 2), edges]).ravel()\n",
    "    mesh.lines = lines\n",
    "    \n",
    "    \n",
    "    # Ajout des couleurs au PolyData\n",
    "    mesh.point_data['values'] = node_colors if node_colors is not None else np.random.randint(0, 255, size=(data.pos.shape[0], 3))\n",
    "    \n",
    "    # Ajouter le mesh avec les couleurs des nœuds\n",
    "    p.add_mesh(mesh, scalars='values', line_width=0.5, point_size=0.3, render_points_as_spheres=True)\n",
    "\n",
    "    # Si aucun plotter n'a été fourni, on montre la figure\n",
    "    if plotter is None:\n",
    "        p.show()"
   ]
  },
  {
   "cell_type": "code",
   "execution_count": 52,
   "metadata": {},
   "outputs": [],
   "source": [
    "def _parse(proto, meta):\n",
    "  \"\"\"Parses a trajectory from tf.Example.\"\"\"\n",
    "  feature_lists = {k: tf.io.VarLenFeature(tf.string)\n",
    "                   for k in meta['field_names']}\n",
    "  features = tf.io.parse_single_example(proto, feature_lists)\n",
    "  out = {}\n",
    "  for key, field in meta['features'].items():\n",
    "    data = tf.io.decode_raw(features[key].values, getattr(tf, field['dtype']))\n",
    "    data = tf.reshape(data, field['shape'])\n",
    "    if field['type'] == 'static':\n",
    "      data = tf.tile(data, [meta['trajectory_length'], 1, 1])\n",
    "    elif field['type'] == 'dynamic_varlen':\n",
    "      length = tf.io.decode_raw(features['length_'+key].values, tf.int32)\n",
    "      length = tf.reshape(length, [-1])\n",
    "      data = tf.RaggedTensor.from_row_lengths(data, row_lengths=length)\n",
    "    elif field['type'] != 'dynamic':\n",
    "      raise ValueError('invalid data format')\n",
    "    out[key] = data\n",
    "  return out\n",
    "\n",
    "def load_dataset(path, split):\n",
    "  \"\"\"Load dataset.\"\"\"\n",
    "  with open(os.path.join(path, 'meta.json'), 'r') as fp:\n",
    "    meta = json.loads(fp.read())\n",
    "  ds = tf.data.TFRecordDataset(os.path.join(path, split+'.tfrecord'))\n",
    "  ds = ds.map(functools.partial(_parse, meta=meta), num_parallel_calls=8)\n",
    "  ds = ds.prefetch(1)\n",
    "  return ds"
   ]
  },
  {
   "cell_type": "code",
   "execution_count": 53,
   "metadata": {},
   "outputs": [],
   "source": [
    "train_ds = load_dataset(\"../DATA/cylinder_flow\", 'train')\n",
    "val_ds = load_dataset(\"../DATA/cylinder_flow\", 'valid')\n",
    "test_ds = load_dataset(\"../DATA/cylinder_flow\", 'test')"
   ]
  },
  {
   "cell_type": "code",
   "execution_count": 54,
   "metadata": {},
   "outputs": [],
   "source": [
    "from torch_geometric.data import Data\n",
    "import torch\n",
    "from utils import  DelaunayTransform\n",
    "from torch_geometric.loader import DataLoader\n"
   ]
  },
  {
   "cell_type": "code",
   "execution_count": null,
   "metadata": {},
   "outputs": [],
   "source": [
    "def prepare_dataset(ds):\n",
    "    transform = DelaunayTransform()\n",
    "    dataset = []\n",
    "    for i, obs in enumerate(ds):\n",
    "        new_obs = {}\n",
    "        for key, value in obs.items():\n",
    "            if 'mesh' in key or 'cells' in key or 'node_type' in key:\n",
    "                key = key.replace('mesh_', '')\n",
    "                new_obs[key] = torch.Tensor(value[0].numpy())\n",
    "            else:\n",
    "                new_obs[\"x_\" + key] = torch.Tensor(value[0].numpy())\n",
    "                new_obs[\"y_\" + key] = torch.Tensor(value[-1].numpy())\n",
    "        surf = torch.Tensor((obs['velocity'][0][:] == 0.0).numpy())\n",
    "        surf = torch.logical_and(surf[:, 0], surf[:, 1])\n",
    "        x = torch.cat([new_obs['x_velocity'], new_obs['x_pressure'], surf.unsqueeze(1)], dim=1)\n",
    "        y = torch.cat([new_obs['y_velocity'], new_obs['y_pressure']], dim=1)\n",
    "        data = transform(Data(pos=new_obs[\"pos\"], surf=surf, x=x, y=y))\n",
    "        data = generate_coarse_graphs(data, 3, 4)\n",
    "        dataset.append(data)\n",
    "    data_loader = DataLoader(dataset=dataset, batch_size=1)\n",
    "    return data_loader\n",
    "train_loader = prepare_dataset(train_ds)\n",
    "val_loader = prepare_dataset(val_ds)\n",
    "test_loader = prepare_dataset(test_ds)"
   ]
  },
  {
   "cell_type": "code",
   "execution_count": 56,
   "metadata": {},
   "outputs": [],
   "source": [
    "import importlib\n",
    "import utils\n",
    "importlib.reload(utils)\n",
    "import my_model\n",
    "from utils import *"
   ]
  },
  {
   "cell_type": "code",
   "execution_count": 57,
   "metadata": {},
   "outputs": [],
   "source": [
    "#plot_graph(generate_coarse_graphs(next(iter(data_loader)), R=3, K=4, visualize=True))\n",
    "device = torch.device('cuda' if torch.cuda.is_available() else 'cpu')  "
   ]
  },
  {
   "cell_type": "code",
   "execution_count": 58,
   "metadata": {},
   "outputs": [],
   "source": [
    "model = my_model.UaMgnn(4, 3, 3, 4, device=device)\n",
    "optimizer = torch.optim.Adam(model.parameters(), lr=0.002)\n",
    "#lr_scheduler = torch.optim.lr_scheduler.StepLR(optimizer, step_size=100, gamma=0.5)\n",
    "model = model.to(device)"
   ]
  },
  {
   "cell_type": "code",
   "execution_count": 59,
   "metadata": {},
   "outputs": [],
   "source": [
    "def validate(model, loader, device):\n",
    "    model.eval()\n",
    "    loss = 0\n",
    "    for data in loader:\n",
    "        data = data.to(device)\n",
    "        with torch.no_grad():\n",
    "            out = model(data)\n",
    "            loss += torch.nn.functional.mse_loss(out, data.y).item()\n",
    "    return loss / len(loader)"
   ]
  },
  {
   "cell_type": "code",
   "execution_count": 60,
   "metadata": {},
   "outputs": [
    {
     "name": "stdout",
     "output_type": "stream",
     "text": [
      "Epoch 0 Loss 216894847732.9645\n",
      "Validation Loss 0.5129957772791386\n",
      "Epoch 1 Loss 4.80665404734388\n",
      "Validation Loss 0.26913256280124187\n",
      "Epoch 2 Loss 1.717683525737375\n",
      "Validation Loss 0.15538251776248216\n",
      "Epoch 3 Loss 0.12903602707013487\n",
      "Validation Loss 0.13484638530761003\n",
      "Epoch 4 Loss 0.10460363282635808\n",
      "Validation Loss 0.10504118131473661\n",
      "Epoch 5 Loss 0.08851956943888217\n",
      "Validation Loss 0.09086354845203459\n",
      "Epoch 6 Loss 0.07944152347557247\n",
      "Validation Loss 0.08109729142859579\n",
      "Epoch 7 Loss 0.0718166169906035\n",
      "Validation Loss 0.07569640341214835\n",
      "Epoch 8 Loss 0.06760459430748597\n",
      "Validation Loss 0.07161032740958034\n",
      "Epoch 9 Loss 0.06375341420248151\n",
      "Validation Loss 0.06668177452404052\n",
      "Epoch 10 Loss 0.05938624323485419\n",
      "Validation Loss 0.0638735518977046\n",
      "Epoch 11 Loss 0.05694434650242328\n",
      "Validation Loss 0.06146750858053565\n",
      "Epoch 12 Loss 0.054673752491828057\n",
      "Validation Loss 0.05940696375910193\n",
      "Epoch 13 Loss 0.052282247671857476\n",
      "Validation Loss 0.0563124689180404\n",
      "Epoch 14 Loss 0.0487830593700055\n",
      "Validation Loss 0.05118207599967718\n",
      "Epoch 15 Loss 0.04491207459755242\n",
      "Validation Loss 0.04641547875013202\n",
      "Epoch 16 Loss 1.3513487939191982\n",
      "Validation Loss 0.11710178788751363\n",
      "Epoch 17 Loss 0.0659241870585829\n",
      "Validation Loss 0.14475693634711206\n",
      "Epoch 18 Loss 0.05791436316585168\n",
      "Validation Loss 0.051390185644850137\n",
      "Epoch 19 Loss 0.04752621939522214\n",
      "Validation Loss 0.04878863320220262\n",
      "Epoch 20 Loss 0.04172429894004017\n",
      "Validation Loss 0.0428961025737226\n",
      "Epoch 21 Loss 0.04032932599657215\n",
      "Validation Loss 0.042575929616577926\n",
      "Epoch 22 Loss 0.04203229728131555\n",
      "Validation Loss 0.040254248743876814\n",
      "Epoch 23 Loss 0.03585187251400203\n",
      "Validation Loss 0.03635819762479514\n",
      "Epoch 24 Loss 0.03443788773333654\n",
      "Validation Loss 0.034512433814816175\n",
      "Epoch 25 Loss inf\n",
      "Validation Loss 9.832225135163708e+29\n",
      "Epoch 26 Loss inf\n",
      "Validation Loss 1.0250261779716073e+30\n",
      "Epoch 27 Loss inf\n",
      "Validation Loss 9.2782154178346e+29\n",
      "Epoch 28 Loss inf\n",
      "Validation Loss 9.122421794361511e+29\n",
      "Epoch 29 Loss inf\n",
      "Validation Loss 9.129608778364756e+29\n"
     ]
    }
   ],
   "source": [
    "import matplotlib.pyplot as plt\n",
    "\n",
    "validation_losses = []\n",
    "train_losses = []\n",
    "for epoch in range(30):\n",
    "    loss_av = 0\n",
    "    i = 0\n",
    "    for data in train_loader:\n",
    "        data = data.to(device)\n",
    "        optimizer.zero_grad()\n",
    "        out = model(data)\n",
    "        if torch.isnan(out).any():\n",
    "            print(\"Nan\")\n",
    "        loss = torch.nn.functional.mse_loss(out, data.y)\n",
    "        loss_av += loss.item()\n",
    "        i += 1\n",
    "        loss.backward()\n",
    "        optimizer.step()\n",
    "    train_losses.append(loss_av/i)\n",
    "    validation_losses.append(validate(model, val_loader, device))\n",
    "    print(f\"Epoch {epoch} Loss {loss_av/i}\")\n",
    "    print(f\"Validation Loss {validation_losses[-1]}\")\n",
    "    \n"
   ]
  },
  {
   "cell_type": "code",
   "execution_count": 61,
   "metadata": {},
   "outputs": [
    {
     "data": {
      "text/plain": [
       "7.306873871516757e+31"
      ]
     },
     "execution_count": 61,
     "metadata": {},
     "output_type": "execute_result"
    }
   ],
   "source": [
    "validate(model, test_loader, device)"
   ]
  },
  {
   "cell_type": "code",
   "execution_count": 62,
   "metadata": {},
   "outputs": [
    {
     "data": {
      "text/plain": [
       "(0.0, 0.1)"
      ]
     },
     "execution_count": 62,
     "metadata": {},
     "output_type": "execute_result"
    },
    {
     "data": {
      "image/png": "[encoded data removed]",
      "text/plain": [
       "<Figure size 640x480 with 1 Axes>"
      ]
     },
     "metadata": {},
     "output_type": "display_data"
    }
   ],
   "source": [
    "plt.plot(train_losses, label='train')\n",
    "plt.plot(validation_losses, label='validation')\n",
    "plt.ylim(0, 0.1)"
   ]
  }
 ],
 "metadata": {
  "kernelspec": {
   "display_name": "env",
   "language": "python",
   "name": "python3"
  },
  "language_info": {
   "codemirror_mode": {
    "name": "ipython",
    "version": 3
   },
   "file_extension": ".py",
   "mimetype": "text/x-python",
   "name": "python",
   "nbconvert_exporter": "python",
   "pygments_lexer": "ipython3",
   "version": "3.10.15"
  }
 },
 "nbformat": 4,
 "nbformat_minor": 2
}
