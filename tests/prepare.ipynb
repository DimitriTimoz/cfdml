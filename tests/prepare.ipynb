{
 "cells": [
  {
   "cell_type": "code",
   "execution_count": 1,
   "metadata": {},
   "outputs": [
    {
     "name": "stderr",
     "output_type": "stream",
     "text": [
      "2024-10-14 19:21:28.115938: W tensorflow/stream_executor/platform/default/dso_loader.cc:64] Could not load dynamic library 'libcudart.so.11.0'; dlerror: libcudart.so.11.0: cannot open shared object file: No such file or directory\n",
      "2024-10-14 19:21:28.115961: I tensorflow/stream_executor/cuda/cudart_stub.cc:29] Ignore above cudart dlerror if you do not have a GPU set up on your machine.\n",
      "/home/dimitri/Development/AI/cfdml/env/lib/python3.10/site-packages/torch_geometric/typing.py:54: UserWarning: An issue occurred while importing 'pyg-lib'. Disabling its usage. Stacktrace: /home/dimitri/Development/AI/cfdml/env/lib/python3.10/site-packages/libpyg.so: undefined symbol: _ZN3c109TupleTypeC1ESt6vectorINS_4Type24SingletonOrSharedTypePtrIS2_EESaIS4_EESt8optionalINS_13QualifiedNameEESt10shared_ptrINS_14FunctionSchemaEE\n",
      "  warnings.warn(f\"An issue occurred while importing 'pyg-lib'. \"\n",
      "/home/dimitri/Development/AI/cfdml/env/lib/python3.10/site-packages/torch_geometric/typing.py:110: UserWarning: An issue occurred while importing 'torch-sparse'. Disabling its usage. Stacktrace: /home/dimitri/Development/AI/cfdml/env/lib/python3.10/site-packages/libpyg.so: undefined symbol: _ZN3c109TupleTypeC1ESt6vectorINS_4Type24SingletonOrSharedTypePtrIS2_EESaIS4_EESt8optionalINS_13QualifiedNameEESt10shared_ptrINS_14FunctionSchemaEE\n",
      "  warnings.warn(f\"An issue occurred while importing 'torch-sparse'. \"\n"
     ]
    }
   ],
   "source": [
    "import tensorflow as tf\n",
    "import os\n",
    "import json\n",
    "import functools\n",
    "import pyvista as pv\n",
    "import numpy as np\n",
    "from utils import *"
   ]
  },
  {
   "cell_type": "code",
   "execution_count": 2,
   "metadata": {},
   "outputs": [],
   "source": [
    "def plot_graph(data, l=1, plotter=None, node_colors=None):\n",
    "    \n",
    "    c = ['r', 'g', 'b', 'm']\n",
    "    \n",
    "    p = pv.Plotter() if plotter is None else plotter\n",
    "    \n",
    "    # Création d'un PolyData pour les points (nœuds)\n",
    "    mesh = pv.PolyData()\n",
    "    \n",
    "    # Gestion des dimensions des positions\n",
    "    if data.pos.shape[1] != 3:\n",
    "        # Ajouter une troisième dimension si nécessaire\n",
    "        mesh.points = np.concatenate([data.pos.cpu().numpy(), np.full((data.pos.shape[0], 1), l)], axis=1)\n",
    "    else:\n",
    "        mesh.points = data.pos.cpu().numpy()\n",
    "\n",
    "    # Création des lignes pour les arêtes\n",
    "    edges = data.edge_index.t().cpu().numpy()\n",
    "    lines = np.hstack([np.full((edges.shape[0], 1), 2), edges]).ravel()\n",
    "    mesh.lines = lines\n",
    "    \n",
    "    \n",
    "    # Ajout des couleurs au PolyData\n",
    "    mesh.point_data['values'] = node_colors if node_colors is not None else np.random.randint(0, 255, size=(data.pos.shape[0], 3))\n",
    "    \n",
    "    # Ajouter le mesh avec les couleurs des nœuds\n",
    "    p.add_mesh(mesh, scalars='values', line_width=0.5, point_size=0.3, render_points_as_spheres=True)\n",
    "\n",
    "    # Si aucun plotter n'a été fourni, on montre la figure\n",
    "    if plotter is None:\n",
    "        p.show()"
   ]
  },
  {
   "cell_type": "code",
   "execution_count": 3,
   "metadata": {},
   "outputs": [],
   "source": [
    "def _parse(proto, meta):\n",
    "  \"\"\"Parses a trajectory from tf.Example.\"\"\"\n",
    "  feature_lists = {k: tf.io.VarLenFeature(tf.string)\n",
    "                   for k in meta['field_names']}\n",
    "  features = tf.io.parse_single_example(proto, feature_lists)\n",
    "  out = {}\n",
    "  for key, field in meta['features'].items():\n",
    "    data = tf.io.decode_raw(features[key].values, getattr(tf, field['dtype']))\n",
    "    data = tf.reshape(data, field['shape'])\n",
    "    if field['type'] == 'static':\n",
    "      data = tf.tile(data, [meta['trajectory_length'], 1, 1])\n",
    "    elif field['type'] == 'dynamic_varlen':\n",
    "      length = tf.io.decode_raw(features['length_'+key].values, tf.int32)\n",
    "      length = tf.reshape(length, [-1])\n",
    "      data = tf.RaggedTensor.from_row_lengths(data, row_lengths=length)\n",
    "    elif field['type'] != 'dynamic':\n",
    "      raise ValueError('invalid data format')\n",
    "    out[key] = data\n",
    "  return out\n",
    "\n",
    "def load_dataset(path, split):\n",
    "  \"\"\"Load dataset.\"\"\"\n",
    "  with open(os.path.join(path, 'meta.json'), 'r') as fp:\n",
    "    meta = json.loads(fp.read())\n",
    "  ds = tf.data.TFRecordDataset(os.path.join(path, split+'.tfrecord'))\n",
    "  ds = ds.map(functools.partial(_parse, meta=meta), num_parallel_calls=8)\n",
    "  ds = ds.prefetch(1)\n",
    "  return ds"
   ]
  },
  {
   "cell_type": "code",
   "execution_count": 4,
   "metadata": {},
   "outputs": [
    {
     "name": "stderr",
     "output_type": "stream",
     "text": [
      "2024-10-14 19:21:32.690718: I tensorflow/stream_executor/cuda/cuda_gpu_executor.cc:936] successful NUMA node read from SysFS had negative value (-1), but there must be at least one NUMA node, so returning NUMA node zero\n",
      "2024-10-14 19:21:32.691101: W tensorflow/stream_executor/platform/default/dso_loader.cc:64] Could not load dynamic library 'libcusolver.so.11'; dlerror: libcusolver.so.11: cannot open shared object file: No such file or directory\n",
      "2024-10-14 19:21:32.691150: W tensorflow/core/common_runtime/gpu/gpu_device.cc:1850] Cannot dlopen some GPU libraries. Please make sure the missing libraries mentioned above are installed properly if you would like to use GPU. Follow the guide at https://www.tensorflow.org/install/gpu for how to download and setup the required libraries for your platform.\n",
      "Skipping registering GPU devices...\n",
      "2024-10-14 19:21:32.691477: I tensorflow/core/platform/cpu_feature_guard.cc:151] This TensorFlow binary is optimized with oneAPI Deep Neural Network Library (oneDNN) to use the following CPU instructions in performance-critical operations:  AVX2 FMA\n",
      "To enable them in other operations, rebuild TensorFlow with the appropriate compiler flags.\n"
     ]
    }
   ],
   "source": [
    "train_ds = load_dataset(\"../DATA/cylinder_flow\", 'train')\n",
    "val_ds = load_dataset(\"../DATA/cylinder_flow\", 'valid')\n",
    "test_ds = load_dataset(\"../DATA/cylinder_flow\", 'test')"
   ]
  },
  {
   "cell_type": "code",
   "execution_count": 5,
   "metadata": {},
   "outputs": [],
   "source": [
    "from torch_geometric.data import Data\n",
    "import torch\n",
    "from utils import  DelaunayTransform\n",
    "from torch_geometric.loader import DataLoader\n",
    "from sklearn.preprocessing import StandardScaler\n"
   ]
  },
  {
   "cell_type": "code",
   "execution_count": 6,
   "metadata": {},
   "outputs": [],
   "source": [
    "import numpy as np\n",
    "\n",
    "def fit_scaler(ds, scaler):\n",
    "    \"\"\"\n",
    "    Fit the scaler on the dataset. This collects all the data across the dataset and fits the scaler.\n",
    "    \"\"\"\n",
    "    data_to_scale = []\n",
    "    \n",
    "    for obs in ds:\n",
    "        # Collect velocity and pressure (or other relevant features) from the dataset to fit the scaler\n",
    "        for key, value in obs.items():\n",
    "            if 'velocity' in key or 'pressure' in key:\n",
    "                array = value[0].numpy()  # Collect the first time step\n",
    "                if array.ndim == 1:  # If it's 1D, we add a new axis to make it 2D\n",
    "                    array = np.expand_dims(array, axis=1)\n",
    "                data_to_scale.append(array)  # Append the corrected array\n",
    "    \n",
    "    # Ensure all arrays have the same number of features (same shape on axis 1)\n",
    "    min_shape = min([arr.shape[1] for arr in data_to_scale])  # Find the smallest second dimension\n",
    "    data_to_scale = [arr[:, :min_shape] for arr in data_to_scale]  # Crop arrays to the minimum size\n",
    "    \n",
    "    data_to_scale = np.concatenate(data_to_scale, axis=0)  # Concatenate all collected data\n",
    "    scaler.fit(data_to_scale)  # Fit the scaler on all collected data\n",
    "\n",
    "def prepare_dataset(ds, scaler, train=False):\n",
    "    transform = DelaunayTransform()\n",
    "    dataset = []\n",
    "    \n",
    "    for i, obs in enumerate(ds):\n",
    "        new_obs = {}\n",
    "        for key, value in obs.items():\n",
    "            if 'mesh' in key or 'cells' in key or 'node_type' in key:\n",
    "                key = key.replace('mesh_', '')\n",
    "                new_obs[key] = torch.Tensor(value[0].numpy())\n",
    "            else:\n",
    "                # Apply scaling to the velocity and pressure\n",
    "                array_x = value[0].numpy().reshape(-1, value[0].shape[-1])  # Reshape the first time step\n",
    "                array_y = value[-1].numpy().reshape(-1, value[-1].shape[-1])  # Reshape the last time step\n",
    "                \n",
    "                # Scale both arrays using the trained scaler\n",
    "                if array_x.shape[1] == scaler.n_features_in_:\n",
    "                    x_scaled = scaler.transform(array_x)\n",
    "                    y_scaled = scaler.transform(array_y)\n",
    "                else:\n",
    "                    # Handle case where the number of features doesn't match (e.g., skip or pad the data)\n",
    "                    x_scaled = array_x  # Keep original if it doesn't match\n",
    "                    y_scaled = array_y\n",
    "\n",
    "                new_obs[\"x_\" + key] = torch.Tensor(x_scaled)\n",
    "                new_obs[\"y_\" + key] = torch.Tensor(y_scaled)\n",
    "\n",
    "        surf = torch.Tensor((obs['velocity'][0][:] == 0.0).numpy())\n",
    "        surf = torch.logical_and(surf[:, 0], surf[:, 1])\n",
    "        x = torch.cat([new_obs['x_velocity'], new_obs['x_pressure'], surf.unsqueeze(1)], dim=1)\n",
    "        y = torch.cat([new_obs['y_velocity'], new_obs['y_pressure']], dim=1)\n",
    "        data = transform(Data(pos=new_obs[\"pos\"], surf=surf, x=x, y=y))\n",
    "        data = generate_coarse_graphs(data, 3, 4)\n",
    "        dataset.append(data)\n",
    "    \n",
    "    data_loader = DataLoader(dataset=dataset, batch_size=1)\n",
    "    return data_loader\n",
    "\n",
    "# Create a scaler\n",
    "scaler = StandardScaler()\n",
    "\n",
    "# Fit the scaler on the training dataset\n",
    "fit_scaler(train_ds, scaler)\n",
    "\n",
    "# Prepare the datasets using the trained scaler\n",
    "train_loader = prepare_dataset(train_ds, scaler, train=True)\n",
    "val_loader = prepare_dataset(val_ds, scaler)\n",
    "test_loader = prepare_dataset(test_ds, scaler)\n"
   ]
  },
  {
   "cell_type": "code",
   "execution_count": 7,
   "metadata": {},
   "outputs": [
    {
     "name": "stdout",
     "output_type": "stream",
     "text": [
      "tensor([[ 0.0779,  0.0000, -0.0127,  0.0000],\n",
      "        [ 0.0394,  0.0000,  0.0026,  0.0000],\n",
      "        [ 0.1001, -0.0809,  0.0387,  0.0000],\n",
      "        ...,\n",
      "        [ 0.0000,  0.0000, -1.0093,  1.0000],\n",
      "        [ 0.0000,  0.0000, -1.1779,  1.0000],\n",
      "        [ 0.0000,  0.0000, -1.2142,  1.0000]])\n"
     ]
    }
   ],
   "source": [
    "print(next(iter(train_loader)).x)"
   ]
  },
  {
   "cell_type": "code",
   "execution_count": 8,
   "metadata": {},
   "outputs": [],
   "source": [
    "import importlib\n",
    "import utils\n",
    "importlib.reload(utils)\n",
    "import my_model\n",
    "from utils import *"
   ]
  },
  {
   "cell_type": "code",
   "execution_count": 9,
   "metadata": {},
   "outputs": [],
   "source": [
    "#plot_graph(generate_coarse_graphs(next(iter(data_loader)), R=3, K=4, visualize=True))\n",
    "device = torch.device('cuda' if torch.cuda.is_available() else 'cpu')  "
   ]
  },
  {
   "cell_type": "code",
   "execution_count": 10,
   "metadata": {},
   "outputs": [],
   "source": [
    "model = my_model.UaMgnn(4, 3, 3, 4, device=device)\n",
    "optimizer = torch.optim.Adam(model.parameters(), lr=1e-4)\n",
    "#lr_scheduler = torch.optim.lr_scheduler.StepLR(optimizer, step_size=100, gamma=0.5)\n",
    "model = model.to(device)"
   ]
  },
  {
   "cell_type": "code",
   "execution_count": 11,
   "metadata": {},
   "outputs": [
    {
     "data": {
      "text/plain": [
       "<generator object Module.parameters at 0x752b5eb5fed0>"
      ]
     },
     "execution_count": 11,
     "metadata": {},
     "output_type": "execute_result"
    }
   ],
   "source": [
    "def validate(model, loader, device):\n",
    "    model.eval()\n",
    "    loss = 0\n",
    "    for data in loader:\n",
    "        data = data.to(device)\n",
    "        with torch.no_grad():\n",
    "            out = model(data)\n",
    "            loss += torch.nn.functional.mse_loss(out, data.y).item()\n",
    "    return loss / len(loader)\n",
    "model.parameters()"
   ]
  },
  {
   "cell_type": "code",
   "execution_count": null,
   "metadata": {},
   "outputs": [],
   "source": [
    "import matplotlib.pyplot as plt\n",
    "torch.autograd.set_detect_anomaly(True)\n",
    "validation_losses = []\n",
    "train_losses = []\n",
    "for epoch in range(30):\n",
    "    loss_av = 0\n",
    "    i = 0\n",
    "    for data in train_loader:\n",
    "        data = data.to(device)\n",
    "        optimizer.zero_grad()\n",
    "        out = model(data)\n",
    "        \n",
    "        if torch.isnan(out).any() or torch.isinf(out).any():\n",
    "            print(\"Model output contains NaN or Inf\")\n",
    "            # Optionally, save the problematic data for inspection\n",
    "            torch.save(data, 'problematic_data.pt')\n",
    "            break  # Exit the loop or handle appropriately\n",
    "        \n",
    "        loss = torch.nn.functional.mse_loss(out, data.y)\n",
    "        \n",
    "        if torch.isnan(loss) or torch.isinf(loss):\n",
    "            print(\"Loss is NaN or Inf\")\n",
    "            break  # Exit the loop or handle appropriately\n",
    "        \n",
    "        loss_av += loss.item()\n",
    "        i += 1\n",
    "        loss.backward()\n",
    "\n",
    "        # Check gradients for NaN or Inf\n",
    "        for name, param in model.named_parameters():\n",
    "            if param.grad is not None:\n",
    "                if torch.isnan(param.grad).any() or torch.isinf(param.grad).any():\n",
    "                    print(f\"Gradient for {name} contains NaN or Inf\")\n",
    "                    break  # Exit the loop or handle appropriately\n",
    "        \n",
    "        torch.nn.utils.clip_grad_norm_(model.parameters(), max_norm=1.0)\n",
    "        optimizer.step()\n",
    "    train_losses.append(loss_av/i)\n",
    "    validation_losses.append(validate(model, val_loader, device))\n",
    "    print(f\"Epoch {epoch} Loss {loss_av/i}\")\n",
    "    print(f\"Validation Loss {validation_losses[-1]}\")\n",
    "    "
   ]
  },
  {
   "cell_type": "code",
   "execution_count": 33,
   "metadata": {},
   "outputs": [
    {
     "data": {
      "text/plain": [
       "0.01404182069003582"
      ]
     },
     "execution_count": 33,
     "metadata": {},
     "output_type": "execute_result"
    }
   ],
   "source": [
    "validate(model, test_loader, device)"
   ]
  },
  {
   "cell_type": "code",
   "execution_count": 34,
   "metadata": {},
   "outputs": [
    {
     "data": {
      "text/plain": [
       "<matplotlib.legend.Legend at 0x7b03ac37f6a0>"
      ]
     },
     "execution_count": 34,
     "metadata": {},
     "output_type": "execute_result"
    },
    {
     "data": {
      "image/png": "[encoded data removed]",
      "text/plain": [
       "<Figure size 640x480 with 1 Axes>"
      ]
     },
     "metadata": {},
     "output_type": "display_data"
    }
   ],
   "source": [
    "plt.plot(train_losses, label='train')\n",
    "plt.plot(validation_losses, label='validation')\n",
    "plt.ylim(0, 0.1)\n",
    "plt.legend()"
   ]
  },
  {
   "cell_type": "code",
   "execution_count": 40,
   "metadata": {},
   "outputs": [
    {
     "data": {
      "text/plain": [
       "(torch.Size([2728, 4]),\n",
       " (1923, 3),\n",
       " torch.Size([2728, 2]),\n",
       " torch.Size([1923, 3]))"
      ]
     },
     "execution_count": 40,
     "metadata": {},
     "output_type": "execute_result"
    }
   ],
   "source": [
    "data = next(iter(test_loader))\n",
    "x = data.x\n",
    "pos = data.pos\n",
    "y = model(data.to(device)).cpu().detach().numpy()\n",
    "x.shape, y.shape, pos.shape, data.y.shape"
   ]
  },
  {
   "cell_type": "code",
   "execution_count": 41,
   "metadata": {},
   "outputs": [],
   "source": [
    "import pandas as pd\n",
    "\n",
    "df = pd.DataFrame(data={'x': pos[:y.shape[0], 0].numpy(), 'y': pos[:y.shape[0], 1].numpy(), 'u': y[:, 0], 'v': y[:, 1], 'p': y[:, 2]})\n",
    "df.to_csv('results.csv', index=False)"
   ]
  }
 ],
 "metadata": {
  "kernelspec": {
   "display_name": "env",
   "language": "python",
   "name": "python3"
  },
  "language_info": {
   "codemirror_mode": {
    "name": "ipython",
    "version": 3
   },
   "file_extension": ".py",
   "mimetype": "text/x-python",
   "name": "python",
   "nbconvert_exporter": "python",
   "pygments_lexer": "ipython3",
   "version": "3.10.15"
  }
 },
 "nbformat": 4,
 "nbformat_minor": 2
}
