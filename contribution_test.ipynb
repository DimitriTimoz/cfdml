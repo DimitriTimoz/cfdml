{
 "cells": [
  {
   "cell_type": "code",
   "execution_count": 12,
   "metadata": {},
   "outputs": [
    {
     "name": "stdout",
     "output_type": "stream",
     "text": [
      "Requirement already satisfied: airfrans in ./env/lib/python3.8/site-packages (from -r requirements.txt (line 1)) (0.1.5.1)\n",
      "Requirement already satisfied: numpy==1.21.5 in ./env/lib/python3.8/site-packages (from -r requirements.txt (line 2)) (1.21.5)\n",
      "Requirement already satisfied: scikit_learn in ./env/lib/python3.8/site-packages (from -r requirements.txt (line 3)) (1.3.2)\n",
      "Requirement already satisfied: tqdm in ./env/lib/python3.8/site-packages (from -r requirements.txt (line 4)) (4.66.5)\n",
      "Requirement already satisfied: matplotlib in ./env/lib/python3.8/site-packages (from -r requirements.txt (line 5)) (3.7.5)\n",
      "Requirement already satisfied: scipy<=1.6.0 in ./env/lib/python3.8/site-packages (from -r requirements.txt (line 6)) (1.6.0)\n",
      "Requirement already satisfied: six in ./env/lib/python3.8/site-packages (from -r requirements.txt (line 7)) (1.16.0)\n",
      "Requirement already satisfied: pathlib in ./env/lib/python3.8/site-packages (from -r requirements.txt (line 8)) (1.0.1)\n",
      "Requirement already satisfied: numba in ./env/lib/python3.8/site-packages (from -r requirements.txt (line 9)) (0.58.0)\n",
      "Requirement already satisfied: pybind11==2.8.1 in ./env/lib/python3.8/site-packages (from -r requirements.txt (line 10)) (2.8.1)\n",
      "Requirement already satisfied: protobuf==3.20.1 in ./env/lib/python3.8/site-packages (from -r requirements.txt (line 11)) (3.20.1)\n",
      "Requirement already satisfied: pandapower==2.7.0 in ./env/lib/python3.8/site-packages (from -r requirements.txt (line 12)) (2.7.0)\n",
      "Requirement already satisfied: pandas==1.4.2 in ./env/lib/python3.8/site-packages (from -r requirements.txt (line 13)) (1.4.2)\n",
      "Requirement already satisfied: jupyter in ./env/lib/python3.8/site-packages (from -r requirements.txt (line 14)) (1.1.1)\n",
      "Requirement already satisfied: tensorflow==2.8.0 in ./env/lib/python3.8/site-packages (from -r requirements.txt (line 15)) (2.8.0)\n",
      "Requirement already satisfied: torch==2.0.1 in ./env/lib/python3.8/site-packages (from -r requirements.txt (line 16)) (2.0.1)\n",
      "Requirement already satisfied: filelock==3.7.1 in ./env/lib/python3.8/site-packages (from -r requirements.txt (line 17)) (3.7.1)\n",
      "Requirement already satisfied: json2table==1.1.5 in ./env/lib/python3.8/site-packages (from -r requirements.txt (line 18)) (1.1.5)\n",
      "Requirement already satisfied: loguru==0.6.0 in ./env/lib/python3.8/site-packages (from -r requirements.txt (line 19)) (0.6.0)\n",
      "Requirement already satisfied: PyYAML==6.0 in ./env/lib/python3.8/site-packages (from -r requirements.txt (line 20)) (6.0)\n",
      "Requirement already satisfied: einops in ./env/lib/python3.8/site-packages (from -r requirements.txt (line 21)) (0.8.0)\n",
      "Requirement already satisfied: lips-benchmark[recommended] in ./env/lib/python3.8/site-packages (from -r requirements.txt (line 22)) (0.2.1)\n",
      "Requirement already satisfied: networkx>=2.5 in ./env/lib/python3.8/site-packages (from pandapower==2.7.0->-r requirements.txt (line 12)) (3.1)\n",
      "Requirement already satisfied: packaging in ./env/lib/python3.8/site-packages (from pandapower==2.7.0->-r requirements.txt (line 12)) (24.1)\n",
      "Requirement already satisfied: xlsxwriter in ./env/lib/python3.8/site-packages (from pandapower==2.7.0->-r requirements.txt (line 12)) (3.2.0)\n",
      "Requirement already satisfied: xlrd in ./env/lib/python3.8/site-packages (from pandapower==2.7.0->-r requirements.txt (line 12)) (2.0.1)\n",
      "Requirement already satisfied: openpyxl in ./env/lib/python3.8/site-packages (from pandapower==2.7.0->-r requirements.txt (line 12)) (3.1.5)\n",
      "Requirement already satisfied: cryptography in ./env/lib/python3.8/site-packages (from pandapower==2.7.0->-r requirements.txt (line 12)) (43.0.1)\n",
      "Requirement already satisfied: python-dateutil>=2.8.1 in ./env/lib/python3.8/site-packages (from pandas==1.4.2->-r requirements.txt (line 13)) (2.9.0.post0)\n",
      "Requirement already satisfied: pytz>=2020.1 in ./env/lib/python3.8/site-packages (from pandas==1.4.2->-r requirements.txt (line 13)) (2024.2)\n",
      "Requirement already satisfied: absl-py>=0.4.0 in ./env/lib/python3.8/site-packages (from tensorflow==2.8.0->-r requirements.txt (line 15)) (2.1.0)\n",
      "Requirement already satisfied: astunparse>=1.6.0 in ./env/lib/python3.8/site-packages (from tensorflow==2.8.0->-r requirements.txt (line 15)) (1.6.3)\n",
      "Requirement already satisfied: flatbuffers>=1.12 in ./env/lib/python3.8/site-packages (from tensorflow==2.8.0->-r requirements.txt (line 15)) (24.3.25)\n",
      "Requirement already satisfied: gast>=0.2.1 in ./env/lib/python3.8/site-packages (from tensorflow==2.8.0->-r requirements.txt (line 15)) (0.6.0)\n",
      "Requirement already satisfied: google-pasta>=0.1.1 in ./env/lib/python3.8/site-packages (from tensorflow==2.8.0->-r requirements.txt (line 15)) (0.2.0)\n",
      "Requirement already satisfied: h5py>=2.9.0 in ./env/lib/python3.8/site-packages (from tensorflow==2.8.0->-r requirements.txt (line 15)) (3.11.0)\n",
      "Requirement already satisfied: keras-preprocessing>=1.1.1 in ./env/lib/python3.8/site-packages (from tensorflow==2.8.0->-r requirements.txt (line 15)) (1.1.2)\n",
      "Requirement already satisfied: libclang>=9.0.1 in ./env/lib/python3.8/site-packages (from tensorflow==2.8.0->-r requirements.txt (line 15)) (18.1.1)\n",
      "Requirement already satisfied: opt-einsum>=2.3.2 in ./env/lib/python3.8/site-packages (from tensorflow==2.8.0->-r requirements.txt (line 15)) (3.3.0)\n",
      "Requirement already satisfied: setuptools in ./env/lib/python3.8/site-packages (from tensorflow==2.8.0->-r requirements.txt (line 15)) (74.1.2)\n",
      "Requirement already satisfied: termcolor>=1.1.0 in ./env/lib/python3.8/site-packages (from tensorflow==2.8.0->-r requirements.txt (line 15)) (2.4.0)\n",
      "Requirement already satisfied: typing-extensions>=3.6.6 in ./env/lib/python3.8/site-packages (from tensorflow==2.8.0->-r requirements.txt (line 15)) (4.12.2)\n",
      "Requirement already satisfied: wrapt>=1.11.0 in ./env/lib/python3.8/site-packages (from tensorflow==2.8.0->-r requirements.txt (line 15)) (1.16.0)\n",
      "Requirement already satisfied: tensorboard<2.9,>=2.8 in ./env/lib/python3.8/site-packages (from tensorflow==2.8.0->-r requirements.txt (line 15)) (2.8.0)\n",
      "Requirement already satisfied: tf-estimator-nightly==2.8.0.dev2021122109 in ./env/lib/python3.8/site-packages (from tensorflow==2.8.0->-r requirements.txt (line 15)) (2.8.0.dev2021122109)\n",
      "Requirement already satisfied: keras<2.9,>=2.8.0rc0 in ./env/lib/python3.8/site-packages (from tensorflow==2.8.0->-r requirements.txt (line 15)) (2.8.0)\n",
      "Requirement already satisfied: tensorflow-io-gcs-filesystem>=0.23.1 in ./env/lib/python3.8/site-packages (from tensorflow==2.8.0->-r requirements.txt (line 15)) (0.34.0)\n",
      "Requirement already satisfied: grpcio<2.0,>=1.24.3 in ./env/lib/python3.8/site-packages (from tensorflow==2.8.0->-r requirements.txt (line 15)) (1.66.1)\n",
      "Requirement already satisfied: sympy in ./env/lib/python3.8/site-packages (from torch==2.0.1->-r requirements.txt (line 16)) (1.13.2)\n",
      "Requirement already satisfied: jinja2 in ./env/lib/python3.8/site-packages (from torch==2.0.1->-r requirements.txt (line 16)) (3.1.4)\n",
      "Requirement already satisfied: nvidia-cuda-nvrtc-cu11==11.7.99 in ./env/lib/python3.8/site-packages (from torch==2.0.1->-r requirements.txt (line 16)) (11.7.99)\n",
      "Requirement already satisfied: nvidia-cuda-runtime-cu11==11.7.99 in ./env/lib/python3.8/site-packages (from torch==2.0.1->-r requirements.txt (line 16)) (11.7.99)\n",
      "Requirement already satisfied: nvidia-cuda-cupti-cu11==11.7.101 in ./env/lib/python3.8/site-packages (from torch==2.0.1->-r requirements.txt (line 16)) (11.7.101)\n",
      "Requirement already satisfied: nvidia-cudnn-cu11==8.5.0.96 in ./env/lib/python3.8/site-packages (from torch==2.0.1->-r requirements.txt (line 16)) (8.5.0.96)\n",
      "Requirement already satisfied: nvidia-cublas-cu11==11.10.3.66 in ./env/lib/python3.8/site-packages (from torch==2.0.1->-r requirements.txt (line 16)) (11.10.3.66)\n",
      "Requirement already satisfied: nvidia-cufft-cu11==10.9.0.58 in ./env/lib/python3.8/site-packages (from torch==2.0.1->-r requirements.txt (line 16)) (10.9.0.58)\n",
      "Requirement already satisfied: nvidia-curand-cu11==10.2.10.91 in ./env/lib/python3.8/site-packages (from torch==2.0.1->-r requirements.txt (line 16)) (10.2.10.91)\n",
      "Requirement already satisfied: nvidia-cusolver-cu11==11.4.0.1 in ./env/lib/python3.8/site-packages (from torch==2.0.1->-r requirements.txt (line 16)) (11.4.0.1)\n",
      "Requirement already satisfied: nvidia-cusparse-cu11==11.7.4.91 in ./env/lib/python3.8/site-packages (from torch==2.0.1->-r requirements.txt (line 16)) (11.7.4.91)\n",
      "Requirement already satisfied: nvidia-nccl-cu11==2.14.3 in ./env/lib/python3.8/site-packages (from torch==2.0.1->-r requirements.txt (line 16)) (2.14.3)\n",
      "Requirement already satisfied: nvidia-nvtx-cu11==11.7.91 in ./env/lib/python3.8/site-packages (from torch==2.0.1->-r requirements.txt (line 16)) (11.7.91)\n",
      "Requirement already satisfied: triton==2.0.0 in ./env/lib/python3.8/site-packages (from torch==2.0.1->-r requirements.txt (line 16)) (2.0.0)\n",
      "Requirement already satisfied: wheel in ./env/lib/python3.8/site-packages (from nvidia-cublas-cu11==11.10.3.66->torch==2.0.1->-r requirements.txt (line 16)) (0.44.0)\n",
      "Requirement already satisfied: cmake in ./env/lib/python3.8/site-packages (from triton==2.0.0->torch==2.0.1->-r requirements.txt (line 16)) (3.30.3)\n",
      "Requirement already satisfied: lit in ./env/lib/python3.8/site-packages (from triton==2.0.0->torch==2.0.1->-r requirements.txt (line 16)) (18.1.8)\n",
      "Requirement already satisfied: pyvista>=0.37.0 in ./env/lib/python3.8/site-packages (from airfrans->-r requirements.txt (line 1)) (0.44.1)\n",
      "Requirement already satisfied: joblib>=1.1.1 in ./env/lib/python3.8/site-packages (from scikit_learn->-r requirements.txt (line 3)) (1.4.2)\n",
      "Requirement already satisfied: threadpoolctl>=2.0.0 in ./env/lib/python3.8/site-packages (from scikit_learn->-r requirements.txt (line 3)) (3.5.0)\n",
      "Requirement already satisfied: contourpy>=1.0.1 in ./env/lib/python3.8/site-packages (from matplotlib->-r requirements.txt (line 5)) (1.1.1)\n",
      "Requirement already satisfied: cycler>=0.10 in ./env/lib/python3.8/site-packages (from matplotlib->-r requirements.txt (line 5)) (0.12.1)\n",
      "Requirement already satisfied: fonttools>=4.22.0 in ./env/lib/python3.8/site-packages (from matplotlib->-r requirements.txt (line 5)) (4.53.1)\n",
      "Requirement already satisfied: kiwisolver>=1.0.1 in ./env/lib/python3.8/site-packages (from matplotlib->-r requirements.txt (line 5)) (1.4.7)\n",
      "Requirement already satisfied: pillow>=6.2.0 in ./env/lib/python3.8/site-packages (from matplotlib->-r requirements.txt (line 5)) (10.4.0)\n",
      "Requirement already satisfied: pyparsing>=2.3.1 in ./env/lib/python3.8/site-packages (from matplotlib->-r requirements.txt (line 5)) (3.1.4)\n",
      "Requirement already satisfied: importlib-resources>=3.2.0 in ./env/lib/python3.8/site-packages (from matplotlib->-r requirements.txt (line 5)) (6.4.5)\n",
      "Requirement already satisfied: llvmlite<0.42,>=0.41.0dev0 in ./env/lib/python3.8/site-packages (from numba->-r requirements.txt (line 9)) (0.41.1)\n",
      "Requirement already satisfied: importlib-metadata in ./env/lib/python3.8/site-packages (from numba->-r requirements.txt (line 9)) (8.5.0)\n",
      "Requirement already satisfied: notebook in ./env/lib/python3.8/site-packages (from jupyter->-r requirements.txt (line 14)) (7.2.2)\n",
      "Requirement already satisfied: jupyter-console in ./env/lib/python3.8/site-packages (from jupyter->-r requirements.txt (line 14)) (6.6.3)\n",
      "Requirement already satisfied: nbconvert in ./env/lib/python3.8/site-packages (from jupyter->-r requirements.txt (line 14)) (7.16.4)\n",
      "Requirement already satisfied: ipykernel in ./env/lib/python3.8/site-packages (from jupyter->-r requirements.txt (line 14)) (6.29.5)\n",
      "Requirement already satisfied: ipywidgets in ./env/lib/python3.8/site-packages (from jupyter->-r requirements.txt (line 14)) (8.1.5)\n",
      "Requirement already satisfied: jupyterlab in ./env/lib/python3.8/site-packages (from jupyter->-r requirements.txt (line 14)) (4.2.5)\n",
      "Requirement already satisfied: grid2op==1.8.1 in ./env/lib/python3.8/site-packages (from lips-benchmark[recommended]->-r requirements.txt (line 22)) (1.8.1)\n",
      "Requirement already satisfied: lightsim2grid==0.7.1 in ./env/lib/python3.8/site-packages (from lips-benchmark[recommended]->-r requirements.txt (line 22)) (0.7.1)\n",
      "Requirement already satisfied: requests>=2.23.0 in ./env/lib/python3.8/site-packages (from grid2op==1.8.1->lips-benchmark[recommended]->-r requirements.txt (line 22)) (2.32.3)\n",
      "Requirement already satisfied: zipp>=3.1.0 in ./env/lib/python3.8/site-packages (from importlib-resources>=3.2.0->matplotlib->-r requirements.txt (line 5)) (3.20.2)\n",
      "Requirement already satisfied: pooch in ./env/lib/python3.8/site-packages (from pyvista>=0.37.0->airfrans->-r requirements.txt (line 1)) (1.8.2)\n",
      "Requirement already satisfied: scooby>=0.5.1 in ./env/lib/python3.8/site-packages (from pyvista>=0.37.0->airfrans->-r requirements.txt (line 1)) (0.10.0)\n",
      "Requirement already satisfied: vtk in ./env/lib/python3.8/site-packages (from pyvista>=0.37.0->airfrans->-r requirements.txt (line 1)) (9.3.1)\n",
      "Requirement already satisfied: google-auth<3,>=1.6.3 in ./env/lib/python3.8/site-packages (from tensorboard<2.9,>=2.8->tensorflow==2.8.0->-r requirements.txt (line 15)) (2.34.0)\n",
      "Requirement already satisfied: google-auth-oauthlib<0.5,>=0.4.1 in ./env/lib/python3.8/site-packages (from tensorboard<2.9,>=2.8->tensorflow==2.8.0->-r requirements.txt (line 15)) (0.4.6)\n",
      "Requirement already satisfied: markdown>=2.6.8 in ./env/lib/python3.8/site-packages (from tensorboard<2.9,>=2.8->tensorflow==2.8.0->-r requirements.txt (line 15)) (3.7)\n",
      "Requirement already satisfied: tensorboard-data-server<0.7.0,>=0.6.0 in ./env/lib/python3.8/site-packages (from tensorboard<2.9,>=2.8->tensorflow==2.8.0->-r requirements.txt (line 15)) (0.6.1)\n",
      "Requirement already satisfied: tensorboard-plugin-wit>=1.6.0 in ./env/lib/python3.8/site-packages (from tensorboard<2.9,>=2.8->tensorflow==2.8.0->-r requirements.txt (line 15)) (1.8.1)\n",
      "Requirement already satisfied: werkzeug>=0.11.15 in ./env/lib/python3.8/site-packages (from tensorboard<2.9,>=2.8->tensorflow==2.8.0->-r requirements.txt (line 15)) (3.0.4)\n",
      "Requirement already satisfied: cffi>=1.12 in ./env/lib/python3.8/site-packages (from cryptography->pandapower==2.7.0->-r requirements.txt (line 12)) (1.17.1)\n",
      "Requirement already satisfied: comm>=0.1.1 in ./env/lib/python3.8/site-packages (from ipykernel->jupyter->-r requirements.txt (line 14)) (0.2.2)\n",
      "Requirement already satisfied: debugpy>=1.6.5 in ./env/lib/python3.8/site-packages (from ipykernel->jupyter->-r requirements.txt (line 14)) (1.8.5)\n",
      "Requirement already satisfied: ipython>=7.23.1 in ./env/lib/python3.8/site-packages (from ipykernel->jupyter->-r requirements.txt (line 14)) (8.12.3)\n",
      "Requirement already satisfied: jupyter-client>=6.1.12 in ./env/lib/python3.8/site-packages (from ipykernel->jupyter->-r requirements.txt (line 14)) (8.6.2)\n",
      "Requirement already satisfied: jupyter-core!=5.0.*,>=4.12 in ./env/lib/python3.8/site-packages (from ipykernel->jupyter->-r requirements.txt (line 14)) (5.7.2)\n",
      "Requirement already satisfied: matplotlib-inline>=0.1 in ./env/lib/python3.8/site-packages (from ipykernel->jupyter->-r requirements.txt (line 14)) (0.1.7)\n",
      "Requirement already satisfied: nest-asyncio in ./env/lib/python3.8/site-packages (from ipykernel->jupyter->-r requirements.txt (line 14)) (1.6.0)\n",
      "Requirement already satisfied: psutil in ./env/lib/python3.8/site-packages (from ipykernel->jupyter->-r requirements.txt (line 14)) (6.0.0)\n",
      "Requirement already satisfied: pyzmq>=24 in ./env/lib/python3.8/site-packages (from ipykernel->jupyter->-r requirements.txt (line 14)) (26.2.0)\n",
      "Requirement already satisfied: tornado>=6.1 in ./env/lib/python3.8/site-packages (from ipykernel->jupyter->-r requirements.txt (line 14)) (6.4.1)\n",
      "Requirement already satisfied: traitlets>=5.4.0 in ./env/lib/python3.8/site-packages (from ipykernel->jupyter->-r requirements.txt (line 14)) (5.14.3)\n",
      "Requirement already satisfied: widgetsnbextension~=4.0.12 in ./env/lib/python3.8/site-packages (from ipywidgets->jupyter->-r requirements.txt (line 14)) (4.0.13)\n",
      "Requirement already satisfied: jupyterlab-widgets~=3.0.12 in ./env/lib/python3.8/site-packages (from ipywidgets->jupyter->-r requirements.txt (line 14)) (3.0.13)\n",
      "Requirement already satisfied: MarkupSafe>=2.0 in ./env/lib/python3.8/site-packages (from jinja2->torch==2.0.1->-r requirements.txt (line 16)) (2.1.5)\n",
      "Requirement already satisfied: prompt-toolkit>=3.0.30 in ./env/lib/python3.8/site-packages (from jupyter-console->jupyter->-r requirements.txt (line 14)) (3.0.47)\n",
      "Requirement already satisfied: pygments in ./env/lib/python3.8/site-packages (from jupyter-console->jupyter->-r requirements.txt (line 14)) (2.18.0)\n",
      "Requirement already satisfied: async-lru>=1.0.0 in ./env/lib/python3.8/site-packages (from jupyterlab->jupyter->-r requirements.txt (line 14)) (2.0.4)\n",
      "Requirement already satisfied: httpx>=0.25.0 in ./env/lib/python3.8/site-packages (from jupyterlab->jupyter->-r requirements.txt (line 14)) (0.27.2)\n",
      "Requirement already satisfied: jupyter-lsp>=2.0.0 in ./env/lib/python3.8/site-packages (from jupyterlab->jupyter->-r requirements.txt (line 14)) (2.2.5)\n",
      "Requirement already satisfied: jupyter-server<3,>=2.4.0 in ./env/lib/python3.8/site-packages (from jupyterlab->jupyter->-r requirements.txt (line 14)) (2.14.2)\n",
      "Requirement already satisfied: jupyterlab-server<3,>=2.27.1 in ./env/lib/python3.8/site-packages (from jupyterlab->jupyter->-r requirements.txt (line 14)) (2.27.3)\n",
      "Requirement already satisfied: notebook-shim>=0.2 in ./env/lib/python3.8/site-packages (from jupyterlab->jupyter->-r requirements.txt (line 14)) (0.2.4)\n",
      "Requirement already satisfied: tomli>=1.2.2 in ./env/lib/python3.8/site-packages (from jupyterlab->jupyter->-r requirements.txt (line 14)) (2.0.1)\n",
      "Requirement already satisfied: beautifulsoup4 in ./env/lib/python3.8/site-packages (from nbconvert->jupyter->-r requirements.txt (line 14)) (4.12.3)\n",
      "Requirement already satisfied: bleach!=5.0.0 in ./env/lib/python3.8/site-packages (from nbconvert->jupyter->-r requirements.txt (line 14)) (6.1.0)\n",
      "Requirement already satisfied: defusedxml in ./env/lib/python3.8/site-packages (from nbconvert->jupyter->-r requirements.txt (line 14)) (0.7.1)\n",
      "Requirement already satisfied: jupyterlab-pygments in ./env/lib/python3.8/site-packages (from nbconvert->jupyter->-r requirements.txt (line 14)) (0.3.0)\n",
      "Requirement already satisfied: mistune<4,>=2.0.3 in ./env/lib/python3.8/site-packages (from nbconvert->jupyter->-r requirements.txt (line 14)) (3.0.2)\n",
      "Requirement already satisfied: nbclient>=0.5.0 in ./env/lib/python3.8/site-packages (from nbconvert->jupyter->-r requirements.txt (line 14)) (0.10.0)\n",
      "Requirement already satisfied: nbformat>=5.7 in ./env/lib/python3.8/site-packages (from nbconvert->jupyter->-r requirements.txt (line 14)) (5.10.4)\n",
      "Requirement already satisfied: pandocfilters>=1.4.1 in ./env/lib/python3.8/site-packages (from nbconvert->jupyter->-r requirements.txt (line 14)) (1.5.1)\n",
      "Requirement already satisfied: tinycss2 in ./env/lib/python3.8/site-packages (from nbconvert->jupyter->-r requirements.txt (line 14)) (1.3.0)\n",
      "Requirement already satisfied: et-xmlfile in ./env/lib/python3.8/site-packages (from openpyxl->pandapower==2.7.0->-r requirements.txt (line 12)) (1.1.0)\n",
      "Requirement already satisfied: mpmath<1.4,>=1.1.0 in ./env/lib/python3.8/site-packages (from sympy->torch==2.0.1->-r requirements.txt (line 16)) (1.3.0)\n",
      "Requirement already satisfied: webencodings in ./env/lib/python3.8/site-packages (from bleach!=5.0.0->nbconvert->jupyter->-r requirements.txt (line 14)) (0.5.1)\n",
      "Requirement already satisfied: pycparser in ./env/lib/python3.8/site-packages (from cffi>=1.12->cryptography->pandapower==2.7.0->-r requirements.txt (line 12)) (2.22)\n",
      "Requirement already satisfied: cachetools<6.0,>=2.0.0 in ./env/lib/python3.8/site-packages (from google-auth<3,>=1.6.3->tensorboard<2.9,>=2.8->tensorflow==2.8.0->-r requirements.txt (line 15)) (5.5.0)\n",
      "Requirement already satisfied: pyasn1-modules>=0.2.1 in ./env/lib/python3.8/site-packages (from google-auth<3,>=1.6.3->tensorboard<2.9,>=2.8->tensorflow==2.8.0->-r requirements.txt (line 15)) (0.4.1)\n",
      "Requirement already satisfied: rsa<5,>=3.1.4 in ./env/lib/python3.8/site-packages (from google-auth<3,>=1.6.3->tensorboard<2.9,>=2.8->tensorflow==2.8.0->-r requirements.txt (line 15)) (4.9)\n",
      "Requirement already satisfied: requests-oauthlib>=0.7.0 in ./env/lib/python3.8/site-packages (from google-auth-oauthlib<0.5,>=0.4.1->tensorboard<2.9,>=2.8->tensorflow==2.8.0->-r requirements.txt (line 15)) (2.0.0)\n",
      "Requirement already satisfied: anyio in ./env/lib/python3.8/site-packages (from httpx>=0.25.0->jupyterlab->jupyter->-r requirements.txt (line 14)) (4.4.0)\n",
      "Requirement already satisfied: certifi in ./env/lib/python3.8/site-packages (from httpx>=0.25.0->jupyterlab->jupyter->-r requirements.txt (line 14)) (2024.8.30)\n",
      "Requirement already satisfied: httpcore==1.* in ./env/lib/python3.8/site-packages (from httpx>=0.25.0->jupyterlab->jupyter->-r requirements.txt (line 14)) (1.0.5)\n",
      "Requirement already satisfied: idna in ./env/lib/python3.8/site-packages (from httpx>=0.25.0->jupyterlab->jupyter->-r requirements.txt (line 14)) (3.9)\n",
      "Requirement already satisfied: sniffio in ./env/lib/python3.8/site-packages (from httpx>=0.25.0->jupyterlab->jupyter->-r requirements.txt (line 14)) (1.3.1)\n",
      "Requirement already satisfied: h11<0.15,>=0.13 in ./env/lib/python3.8/site-packages (from httpcore==1.*->httpx>=0.25.0->jupyterlab->jupyter->-r requirements.txt (line 14)) (0.14.0)\n",
      "Requirement already satisfied: backcall in ./env/lib/python3.8/site-packages (from ipython>=7.23.1->ipykernel->jupyter->-r requirements.txt (line 14)) (0.2.0)\n",
      "Requirement already satisfied: decorator in ./env/lib/python3.8/site-packages (from ipython>=7.23.1->ipykernel->jupyter->-r requirements.txt (line 14)) (5.1.1)\n",
      "Requirement already satisfied: jedi>=0.16 in ./env/lib/python3.8/site-packages (from ipython>=7.23.1->ipykernel->jupyter->-r requirements.txt (line 14)) (0.19.1)\n",
      "Requirement already satisfied: pickleshare in ./env/lib/python3.8/site-packages (from ipython>=7.23.1->ipykernel->jupyter->-r requirements.txt (line 14)) (0.7.5)\n",
      "Requirement already satisfied: stack-data in ./env/lib/python3.8/site-packages (from ipython>=7.23.1->ipykernel->jupyter->-r requirements.txt (line 14)) (0.6.3)\n",
      "Requirement already satisfied: pexpect>4.3 in ./env/lib/python3.8/site-packages (from ipython>=7.23.1->ipykernel->jupyter->-r requirements.txt (line 14)) (4.9.0)\n",
      "Requirement already satisfied: platformdirs>=2.5 in ./env/lib/python3.8/site-packages (from jupyter-core!=5.0.*,>=4.12->ipykernel->jupyter->-r requirements.txt (line 14)) (4.3.3)\n",
      "Requirement already satisfied: argon2-cffi>=21.1 in ./env/lib/python3.8/site-packages (from jupyter-server<3,>=2.4.0->jupyterlab->jupyter->-r requirements.txt (line 14)) (23.1.0)\n",
      "Requirement already satisfied: jupyter-events>=0.9.0 in ./env/lib/python3.8/site-packages (from jupyter-server<3,>=2.4.0->jupyterlab->jupyter->-r requirements.txt (line 14)) (0.10.0)\n",
      "Requirement already satisfied: jupyter-server-terminals>=0.4.4 in ./env/lib/python3.8/site-packages (from jupyter-server<3,>=2.4.0->jupyterlab->jupyter->-r requirements.txt (line 14)) (0.5.3)\n",
      "Requirement already satisfied: overrides>=5.0 in ./env/lib/python3.8/site-packages (from jupyter-server<3,>=2.4.0->jupyterlab->jupyter->-r requirements.txt (line 14)) (7.7.0)\n",
      "Requirement already satisfied: prometheus-client>=0.9 in ./env/lib/python3.8/site-packages (from jupyter-server<3,>=2.4.0->jupyterlab->jupyter->-r requirements.txt (line 14)) (0.20.0)\n",
      "Requirement already satisfied: send2trash>=1.8.2 in ./env/lib/python3.8/site-packages (from jupyter-server<3,>=2.4.0->jupyterlab->jupyter->-r requirements.txt (line 14)) (1.8.3)\n",
      "Requirement already satisfied: terminado>=0.8.3 in ./env/lib/python3.8/site-packages (from jupyter-server<3,>=2.4.0->jupyterlab->jupyter->-r requirements.txt (line 14)) (0.18.1)\n",
      "Requirement already satisfied: websocket-client>=1.7 in ./env/lib/python3.8/site-packages (from jupyter-server<3,>=2.4.0->jupyterlab->jupyter->-r requirements.txt (line 14)) (1.8.0)\n",
      "Requirement already satisfied: babel>=2.10 in ./env/lib/python3.8/site-packages (from jupyterlab-server<3,>=2.27.1->jupyterlab->jupyter->-r requirements.txt (line 14)) (2.16.0)\n",
      "Requirement already satisfied: json5>=0.9.0 in ./env/lib/python3.8/site-packages (from jupyterlab-server<3,>=2.27.1->jupyterlab->jupyter->-r requirements.txt (line 14)) (0.9.25)\n",
      "Requirement already satisfied: jsonschema>=4.18.0 in ./env/lib/python3.8/site-packages (from jupyterlab-server<3,>=2.27.1->jupyterlab->jupyter->-r requirements.txt (line 14)) (4.23.0)\n",
      "Requirement already satisfied: fastjsonschema>=2.15 in ./env/lib/python3.8/site-packages (from nbformat>=5.7->nbconvert->jupyter->-r requirements.txt (line 14)) (2.20.0)\n",
      "Requirement already satisfied: wcwidth in ./env/lib/python3.8/site-packages (from prompt-toolkit>=3.0.30->jupyter-console->jupyter->-r requirements.txt (line 14)) (0.2.13)\n",
      "Requirement already satisfied: charset-normalizer<4,>=2 in ./env/lib/python3.8/site-packages (from requests>=2.23.0->grid2op==1.8.1->lips-benchmark[recommended]->-r requirements.txt (line 22)) (3.3.2)\n",
      "Requirement already satisfied: urllib3<3,>=1.21.1 in ./env/lib/python3.8/site-packages (from requests>=2.23.0->grid2op==1.8.1->lips-benchmark[recommended]->-r requirements.txt (line 22)) (2.2.3)\n",
      "Requirement already satisfied: soupsieve>1.2 in ./env/lib/python3.8/site-packages (from beautifulsoup4->nbconvert->jupyter->-r requirements.txt (line 14)) (2.6)\n",
      "Requirement already satisfied: exceptiongroup>=1.0.2 in ./env/lib/python3.8/site-packages (from anyio->httpx>=0.25.0->jupyterlab->jupyter->-r requirements.txt (line 14)) (1.2.2)\n",
      "Requirement already satisfied: argon2-cffi-bindings in ./env/lib/python3.8/site-packages (from argon2-cffi>=21.1->jupyter-server<3,>=2.4.0->jupyterlab->jupyter->-r requirements.txt (line 14)) (21.2.0)\n",
      "Requirement already satisfied: parso<0.9.0,>=0.8.3 in ./env/lib/python3.8/site-packages (from jedi>=0.16->ipython>=7.23.1->ipykernel->jupyter->-r requirements.txt (line 14)) (0.8.4)\n",
      "Requirement already satisfied: attrs>=22.2.0 in ./env/lib/python3.8/site-packages (from jsonschema>=4.18.0->jupyterlab-server<3,>=2.27.1->jupyterlab->jupyter->-r requirements.txt (line 14)) (24.2.0)\n",
      "Requirement already satisfied: jsonschema-specifications>=2023.03.6 in ./env/lib/python3.8/site-packages (from jsonschema>=4.18.0->jupyterlab-server<3,>=2.27.1->jupyterlab->jupyter->-r requirements.txt (line 14)) (2023.12.1)\n",
      "Requirement already satisfied: pkgutil-resolve-name>=1.3.10 in ./env/lib/python3.8/site-packages (from jsonschema>=4.18.0->jupyterlab-server<3,>=2.27.1->jupyterlab->jupyter->-r requirements.txt (line 14)) (1.3.10)\n",
      "Requirement already satisfied: referencing>=0.28.4 in ./env/lib/python3.8/site-packages (from jsonschema>=4.18.0->jupyterlab-server<3,>=2.27.1->jupyterlab->jupyter->-r requirements.txt (line 14)) (0.35.1)\n",
      "Requirement already satisfied: rpds-py>=0.7.1 in ./env/lib/python3.8/site-packages (from jsonschema>=4.18.0->jupyterlab-server<3,>=2.27.1->jupyterlab->jupyter->-r requirements.txt (line 14)) (0.20.0)\n",
      "Requirement already satisfied: python-json-logger>=2.0.4 in ./env/lib/python3.8/site-packages (from jupyter-events>=0.9.0->jupyter-server<3,>=2.4.0->jupyterlab->jupyter->-r requirements.txt (line 14)) (2.0.7)\n",
      "Requirement already satisfied: rfc3339-validator in ./env/lib/python3.8/site-packages (from jupyter-events>=0.9.0->jupyter-server<3,>=2.4.0->jupyterlab->jupyter->-r requirements.txt (line 14)) (0.1.4)\n",
      "Requirement already satisfied: rfc3986-validator>=0.1.1 in ./env/lib/python3.8/site-packages (from jupyter-events>=0.9.0->jupyter-server<3,>=2.4.0->jupyterlab->jupyter->-r requirements.txt (line 14)) (0.1.1)\n",
      "Requirement already satisfied: ptyprocess>=0.5 in ./env/lib/python3.8/site-packages (from pexpect>4.3->ipython>=7.23.1->ipykernel->jupyter->-r requirements.txt (line 14)) (0.7.0)\n",
      "Requirement already satisfied: pyasn1<0.7.0,>=0.4.6 in ./env/lib/python3.8/site-packages (from pyasn1-modules>=0.2.1->google-auth<3,>=1.6.3->tensorboard<2.9,>=2.8->tensorflow==2.8.0->-r requirements.txt (line 15)) (0.6.1)\n",
      "Requirement already satisfied: oauthlib>=3.0.0 in ./env/lib/python3.8/site-packages (from requests-oauthlib>=0.7.0->google-auth-oauthlib<0.5,>=0.4.1->tensorboard<2.9,>=2.8->tensorflow==2.8.0->-r requirements.txt (line 15)) (3.2.2)\n",
      "Requirement already satisfied: executing>=1.2.0 in ./env/lib/python3.8/site-packages (from stack-data->ipython>=7.23.1->ipykernel->jupyter->-r requirements.txt (line 14)) (2.1.0)\n",
      "Requirement already satisfied: asttokens>=2.1.0 in ./env/lib/python3.8/site-packages (from stack-data->ipython>=7.23.1->ipykernel->jupyter->-r requirements.txt (line 14)) (2.4.1)\n",
      "Requirement already satisfied: pure-eval in ./env/lib/python3.8/site-packages (from stack-data->ipython>=7.23.1->ipykernel->jupyter->-r requirements.txt (line 14)) (0.2.3)\n",
      "Requirement already satisfied: fqdn in ./env/lib/python3.8/site-packages (from jsonschema[format-nongpl]>=4.18.0->jupyter-events>=0.9.0->jupyter-server<3,>=2.4.0->jupyterlab->jupyter->-r requirements.txt (line 14)) (1.5.1)\n",
      "Requirement already satisfied: isoduration in ./env/lib/python3.8/site-packages (from jsonschema[format-nongpl]>=4.18.0->jupyter-events>=0.9.0->jupyter-server<3,>=2.4.0->jupyterlab->jupyter->-r requirements.txt (line 14)) (20.11.0)\n",
      "Requirement already satisfied: jsonpointer>1.13 in ./env/lib/python3.8/site-packages (from jsonschema[format-nongpl]>=4.18.0->jupyter-events>=0.9.0->jupyter-server<3,>=2.4.0->jupyterlab->jupyter->-r requirements.txt (line 14)) (3.0.0)\n",
      "Requirement already satisfied: uri-template in ./env/lib/python3.8/site-packages (from jsonschema[format-nongpl]>=4.18.0->jupyter-events>=0.9.0->jupyter-server<3,>=2.4.0->jupyterlab->jupyter->-r requirements.txt (line 14)) (1.3.0)\n",
      "Requirement already satisfied: webcolors>=24.6.0 in ./env/lib/python3.8/site-packages (from jsonschema[format-nongpl]>=4.18.0->jupyter-events>=0.9.0->jupyter-server<3,>=2.4.0->jupyterlab->jupyter->-r requirements.txt (line 14)) (24.8.0)\n",
      "Requirement already satisfied: arrow>=0.15.0 in ./env/lib/python3.8/site-packages (from isoduration->jsonschema[format-nongpl]>=4.18.0->jupyter-events>=0.9.0->jupyter-server<3,>=2.4.0->jupyterlab->jupyter->-r requirements.txt (line 14)) (1.3.0)\n",
      "Requirement already satisfied: types-python-dateutil>=2.8.10 in ./env/lib/python3.8/site-packages (from arrow>=0.15.0->isoduration->jsonschema[format-nongpl]>=4.18.0->jupyter-events>=0.9.0->jupyter-server<3,>=2.4.0->jupyterlab->jupyter->-r requirements.txt (line 14)) (2.9.0.20240906)\n",
      "Note: you may need to restart the kernel to use updated packages.\n"
     ]
    }
   ],
   "source": [
    "%pip install -r requirements.txt\n",
    "# or \n",
    "# !pip install -U ."
   ]
  },
  {
   "cell_type": "markdown",
   "metadata": {},
   "source": [
    "# Example Run of an Augmented Simulator"
   ]
  },
  {
   "cell_type": "markdown",
   "metadata": {},
   "source": [
    "This tutorial notebook provides a guidance for installing the required packages and testing implemented augmented simulators using LIPS platform. \n",
    "\n",
    "**A quick walkthrough:**\n",
    "\n",
    "- Install the required packages using the requirements.txt file in the github repository for the required used case.\n",
    "\n",
    "- Some baseline are already implemented in the LIPS platform that could be seen to have some inspiration.\n",
    "\n",
    "- The augmented simulators related hyperparameters could be modified via dedicated configuration files.\n",
    "\n",
    "- The LIPS platform will be used to evaluate the trained augmented simulators from different evaluation criteria categories and attribute a score to each run."
   ]
  },
  {
   "cell_type": "markdown",
   "metadata": {},
   "source": [
    "## How to implement your own augmented simulator\n",
    "\n",
    "In the following, we show 3 ways to implement an augmented simulator (based on ML or a hybrid physics-AI model):\n",
    "\n",
    "1- Using an existing augmented simulator (baseline) in LIPS platform, train it and then evaluate the results;\n",
    "\n",
    "2- Implement an augmented simulator using LIPS framework template to take the advantage of existing training loop and other offered features;\n",
    "\n",
    "3- Implement an augmented simulator independently from LIPS platform and plug the trained model into LIPS to evaluate its results."
   ]
  },
  {
   "cell_type": "markdown",
   "metadata": {},
   "source": [
    "As so, in order to adress the augmented simulator handling when running this notebook, it is divided into the following four sections:\n",
    "1. [Generic step (Load the required data)](#generic_step)\n",
    "2. [Evaluate an existing augmented simulator](#existing_sim) (Beginner users)\n",
    "3. [Train and evaluate a custom augmented simulators developed using LIPS framework](#train_using_lips) (Intermediate level users)\n",
    "4. [Train a custom augmented simulator independently from LIPS and use the framwork to evaluate the final results](#train_custom) (Advanced users)\n",
    "\n",
    "Depending on the user level, it conveniently point to the dedicated section."
   ]
  },
  {
   "cell_type": "markdown",
   "metadata": {},
   "source": [
    "### Prerequisites"
   ]
  },
  {
   "cell_type": "markdown",
   "metadata": {},
   "source": [
    "Install the LIPS framework if it is not already done. For more information look at the LIPS framework [Github repository](https://github.com/IRT-SystemX/LIPS) "
   ]
  },
  {
   "cell_type": "markdown",
   "metadata": {},
   "source": [
    "Install the AirfRANS package"
   ]
  },
  {
   "cell_type": "code",
   "execution_count": 13,
   "metadata": {},
   "outputs": [],
   "source": [
    "# !pip install airfrans"
   ]
  },
  {
   "cell_type": "markdown",
   "metadata": {},
   "source": [
    "### Generic Step (Load the required data) <a id='generic_step'></a>"
   ]
  },
  {
   "cell_type": "code",
   "execution_count": 1,
   "metadata": {},
   "outputs": [],
   "source": [
    "import os\n",
    "from lips import get_root_path"
   ]
  },
  {
   "cell_type": "code",
   "execution_count": 2,
   "metadata": {},
   "outputs": [],
   "source": [
    "# indicate required paths\n",
    "LIPS_PATH = get_root_path()\n",
    "DIRECTORY_NAME = 'Dataset'\n",
    "BENCHMARK_NAME = \"Case1\"\n",
    "LOG_PATH = LIPS_PATH + \"lips_logs.log\""
   ]
  },
  {
   "cell_type": "markdown",
   "metadata": {},
   "source": [
    "Define the configuration files path, that aim to describe specific caracteristics of the use case or the augmented simulator."
   ]
  },
  {
   "cell_type": "code",
   "execution_count": 3,
   "metadata": {},
   "outputs": [],
   "source": [
    "BENCH_CONFIG_PATH = os.path.join(\"airfoilConfigurations\",\"benchmarks\",\"confAirfoil.ini\") #Configuration file related to the benchmark\n",
    "SIM_CONFIG_PATH = os.path.join(\"airfoilConfigurations\",\"simulators\",\"torch_fc.ini\") #Configuration file re"
   ]
  },
  {
   "cell_type": "markdown",
   "metadata": {},
   "source": [
    "Download the data"
   ]
  },
  {
   "cell_type": "code",
   "execution_count": 4,
   "metadata": {},
   "outputs": [
    {
     "name": "stderr",
     "output_type": "stream",
     "text": [
      "/home/dimitri/Development/AI/cfdml/env/lib/python3.8/site-packages/grid2op/Backend/PandaPowerBackend.py:31: UserWarning: Numba cannot be loaded. You will gain possibly massive speed if installing it by \n",
      "\t/home/dimitri/Development/AI/cfdml/env/bin/python -m pip install numba\n",
      "\n",
      "  warnings.warn(\n"
     ]
    }
   ],
   "source": [
    "from lips.dataset.airfransDataSet import download_data\n",
    "if not os.path.isdir(DIRECTORY_NAME):\n",
    "    download_data(root_path=\".\", directory_name=DIRECTORY_NAME)"
   ]
  },
  {
   "cell_type": "markdown",
   "metadata": {},
   "source": [
    "Loading the dataset using the dedicated class used by LIPS platform offers a list of advantages:\n",
    "\n",
    "1. Ease the importing of datasets\n",
    "1. A set of functions to organize the `inputs` and `outputs` required by augmented simulators\n"
   ]
  },
  {
   "cell_type": "code",
   "execution_count": 5,
   "metadata": {},
   "outputs": [
    {
     "name": "stderr",
     "output_type": "stream",
     "text": [
      "Loading dataset (task: scarce, split: train): 100%|██████████| 200/200 [00:50<00:00,  3.98it/s]\n",
      "Loading dataset (task: full, split: test): 100%|██████████| 200/200 [00:50<00:00,  3.97it/s]\n",
      "Loading dataset (task: reynolds, split: test): 100%|██████████| 496/496 [01:58<00:00,  4.17it/s]\n"
     ]
    }
   ],
   "source": [
    "# Load the required benchmark datasets\n",
    "from lips.benchmark.airfransBenchmark import AirfRANSBenchmark\n",
    "\n",
    "benchmark=AirfRANSBenchmark(benchmark_path = DIRECTORY_NAME,\n",
    "                            config_path = BENCH_CONFIG_PATH,\n",
    "                            benchmark_name = BENCHMARK_NAME,\n",
    "                            log_path=LOG_PATH)\n",
    "                            \n",
    "benchmark.load(path=DIRECTORY_NAME)"
   ]
  },
  {
   "cell_type": "code",
   "execution_count": 8,
   "metadata": {},
   "outputs": [],
   "source": [
    "import torch\n",
    "from torch.utils.data import DataLoader, TensorDataset\n",
    "import numpy as np"
   ]
  },
  {
   "cell_type": "code",
   "execution_count": 9,
   "metadata": {},
   "outputs": [],
   "source": [
    "def process_dataset(dataset, batch_size: int=128000, training: bool=False, shuffle: bool=False, pin_memory=True, num_workers=0, dtype=torch.float32) -> DataLoader:\n",
    "    if training:\n",
    "        batch_size = batch_size\n",
    "        extract_x, extract_y = dataset.extract_data()\n",
    "    else:\n",
    "        batch_size = batch_size\n",
    "        extract_x, extract_y = dataset.extract_data()\n",
    "\n",
    "    torch_dataset = TensorDataset(torch.tensor(extract_x, dtype=dtype), torch.tensor(extract_y, dtype=dtype))\n",
    "    data_loader = DataLoader(torch_dataset, batch_size=batch_size, shuffle=shuffle, pin_memory=pin_memory, num_workers=num_workers)\n",
    "    return data_loader\n",
    "\n",
    "def infer_input_output_size(dataset):\n",
    "    *dim_inputs, output_size = dataset.get_sizes()\n",
    "    input_size = np.sum(dim_inputs)\n",
    "    return input_size, output_size\n",
    "\n",
    "train_loader = process_dataset(benchmark.train_dataset, training=True)"
   ]
  },
  {
   "cell_type": "code",
   "execution_count": 12,
   "metadata": {},
   "outputs": [
    {
     "data": {
      "text/plain": [
       "<torch.utils.data.dataset.TensorDataset at 0x7ebc288ef280>"
      ]
     },
     "execution_count": 12,
     "metadata": {},
     "output_type": "execute_result"
    }
   ],
   "source": []
  }
 ],
 "metadata": {
  "kernelspec": {
   "display_name": "ml4phy",
   "language": "python",
   "name": "python3"
  },
  "language_info": {
   "codemirror_mode": {
    "name": "ipython",
    "version": 3
   },
   "file_extension": ".py",
   "mimetype": "text/x-python",
   "name": "python",
   "nbconvert_exporter": "python",
   "pygments_lexer": "ipython3",
   "version": "3.10.15"
  }
 },
 "nbformat": 4,
 "nbformat_minor": 4
}
