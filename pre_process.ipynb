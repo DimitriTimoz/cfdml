{
 "cells": [
  {
   "cell_type": "code",
   "execution_count": 3,
   "metadata": {},
   "outputs": [],
   "source": [
    "import os\n",
    "from lips import get_root_path"
   ]
  },
  {
   "cell_type": "code",
   "execution_count": 4,
   "metadata": {},
   "outputs": [],
   "source": [
    "LIPS_PATH = get_root_path()\n",
    "DIRECTORY_NAME = 'Dataset'\n",
    "BENCHMARK_NAME = \"Case1\"\n",
    "LOG_PATH = LIPS_PATH + \"lips_logs.log\"\n",
    "BENCH_CONFIG_PATH = os.path.join(\"airfoilConfigurations\",\"benchmarks\",\"confAirfoil.ini\") #Configuration file related to the benchmark\n",
    "SIM_CONFIG_PATH = os.path.join(\"airfoilConfigurations\",\"simulators\",\"torch_fc.ini\") #Configuration file re"
   ]
  },
  {
   "cell_type": "code",
   "execution_count": 5,
   "metadata": {},
   "outputs": [],
   "source": [
    "from lips.dataset.airfransDataSet import download_data\n",
    "if not os.path.isdir(DIRECTORY_NAME):\n",
    "    download_data(root_path=\".\", directory_name=DIRECTORY_NAME)"
   ]
  },
  {
   "cell_type": "code",
   "execution_count": 6,
   "metadata": {},
   "outputs": [
    {
     "name": "stderr",
     "output_type": "stream",
     "text": [
      "Loading dataset (task: scarce, split: train): 100%|██████████| 200/200 [01:00<00:00,  3.28it/s]\n",
      "Loading dataset (task: full, split: test): 100%|██████████| 200/200 [00:55<00:00,  3.60it/s]\n",
      "Loading dataset (task: reynolds, split: test): 100%|██████████| 496/496 [02:25<00:00,  3.40it/s]\n"
     ]
    }
   ],
   "source": [
    "from lips.benchmark.airfransBenchmark import AirfRANSBenchmark\n",
    "\n",
    "benchmark=AirfRANSBenchmark(benchmark_path = DIRECTORY_NAME,\n",
    "                            config_path = BENCH_CONFIG_PATH,\n",
    "                            benchmark_name = BENCHMARK_NAME,\n",
    "                            log_path=LOG_PATH)\n",
    "                            \n",
    "benchmark.load(path=DIRECTORY_NAME)"
   ]
  },
  {
   "cell_type": "code",
   "execution_count": 7,
   "metadata": {},
   "outputs": [
    {
     "data": {
      "text/plain": [
       "array([ 4.21687031,  4.21688938,  3.99183941, ..., -2.13636851,\n",
       "       -2.14823389, -2.16010475])"
      ]
     },
     "execution_count": 7,
     "metadata": {},
     "output_type": "execute_result"
    }
   ],
   "source": [
    "benchmark.train_dataset.data[\"x-position\"]"
   ]
  },
  {
   "cell_type": "code",
   "execution_count": 12,
   "metadata": {},
   "outputs": [],
   "source": [
    "import torch\n",
    "from torch_geometric.transforms import BaseTransform\n",
    "from torch_geometric.data import Data\n",
    "from scipy.spatial import Delaunay\n",
    "import numpy as np\n",
    "\n",
    "class DelaunayTransform(BaseTransform):\n",
    "    def __init__(self, dim=2):\n",
    "        \"\"\"\n",
    "        Initialize the DelaunayTransform.\n",
    "\n",
    "        Args:\n",
    "            dim (int): Dimensionality of the points (default is 2 for 2D).\n",
    "        \"\"\"\n",
    "        self.dim = dim\n",
    "\n",
    "    def __call__(self, data: Data) -> Data:\n",
    "        \"\"\"\n",
    "        Apply Delaunay triangulation to the node coordinates to construct edge_index.\n",
    "\n",
    "        Args:\n",
    "            data (Data): PyTorch Geometric Data object with 'x' attribute.\n",
    "\n",
    "        Returns:\n",
    "            Data: Updated Data object with 'edge_index' constructed via Delaunay triangulation.\n",
    "        \"\"\"\n",
    "        # Convert node features to NumPy arrays\n",
    "        points = data.pos.cpu().numpy()\n",
    "        surf = data.surf.cpu().numpy()\n",
    "\n",
    "        # Perform Delaunay triangulation\n",
    "        tri = Delaunay(points)\n",
    "\n",
    "        # Check if all nodes in simplex are on the surface\n",
    "        simplices_surf = surf[tri.simplices]\n",
    "        all_on_surf = simplices_surf.all(axis=1)\n",
    "        simplices_to_use = ~all_on_surf\n",
    "        valid_simplices = tri.simplices[simplices_to_use]\n",
    "\n",
    "        # Extract edges from valid simplices\n",
    "        edges = np.concatenate([\n",
    "            valid_simplices[:, [0, 1]],\n",
    "            valid_simplices[:, [1, 2]],\n",
    "            valid_simplices[:, [2, 0]],\n",
    "            valid_simplices[:, [1, 0]],\n",
    "            valid_simplices[:, [2, 1]],\n",
    "            valid_simplices[:, [0, 2]]\n",
    "        ], axis=0)\n",
    "\n",
    "        edge_index = np.unique(edges, axis=0)\n",
    "\n",
    "        # Convert edge_index to torch tensor\n",
    "        edge_index = torch.tensor(edge_index, dtype=torch.long, device=data.pos.device)\n",
    "\n",
    "        # Update the Data object\n",
    "        data.edge_index = edge_index.t()\n",
    "        return data\n"
   ]
  },
  {
   "cell_type": "code",
   "execution_count": 13,
   "metadata": {},
   "outputs": [],
   "source": [
    "import numpy as np\n",
    "from torch_geometric.data import Data, DataLoader"
   ]
  },
  {
   "cell_type": "code",
   "execution_count": 16,
   "metadata": {},
   "outputs": [
    {
     "ename": "KeyboardInterrupt",
     "evalue": "",
     "output_type": "error",
     "traceback": [
      "\u001b[0;31m---------------------------------------------------------------------------\u001b[0m",
      "\u001b[0;31mKeyboardInterrupt\u001b[0m                         Traceback (most recent call last)",
      "Cell \u001b[0;32mIn[16], line 40\u001b[0m\n\u001b[1;32m     37\u001b[0m         start_index \u001b[38;5;241m+\u001b[39m\u001b[38;5;241m=\u001b[39m nb_nodes_in_simulation\n\u001b[1;32m     38\u001b[0m     \u001b[38;5;28;01mreturn\u001b[39;00m DataLoader(dataset\u001b[38;5;241m=\u001b[39mtorchDataset,batch_size\u001b[38;5;241m=\u001b[39m\u001b[38;5;241m1\u001b[39m)\n\u001b[0;32m---> 40\u001b[0m data_loader \u001b[38;5;241m=\u001b[39m \u001b[43mprocess_dataset\u001b[49m\u001b[43m(\u001b[49m\u001b[43mbenchmark\u001b[49m\u001b[38;5;241;43m.\u001b[39;49m\u001b[43mtrain_dataset\u001b[49m\u001b[43m,\u001b[49m\u001b[43m \u001b[49m\u001b[38;5;28;43;01mTrue\u001b[39;49;00m\u001b[43m)\u001b[49m\n",
      "Cell \u001b[0;32mIn[16], line 8\u001b[0m, in \u001b[0;36mprocess_dataset\u001b[0;34m(dataset, training)\u001b[0m\n\u001b[1;32m      4\u001b[0m surf_bool\u001b[38;5;241m=\u001b[39mdataset\u001b[38;5;241m.\u001b[39mextra_data[\u001b[38;5;124m'\u001b[39m\u001b[38;5;124msurface\u001b[39m\u001b[38;5;124m'\u001b[39m]\n\u001b[1;32m      6\u001b[0m position \u001b[38;5;241m=\u001b[39m np\u001b[38;5;241m.\u001b[39mstack([coord_x,coord_y],axis\u001b[38;5;241m=\u001b[39m\u001b[38;5;241m1\u001b[39m)\n\u001b[0;32m----> 8\u001b[0m nodes_features, node_labels \u001b[38;5;241m=\u001b[39m \u001b[43mdataset\u001b[49m\u001b[38;5;241;43m.\u001b[39;49m\u001b[43mextract_data\u001b[49m\u001b[43m(\u001b[49m\u001b[43m)\u001b[49m\n\u001b[1;32m     10\u001b[0m torchDataset\u001b[38;5;241m=\u001b[39m[]\n\u001b[1;32m     11\u001b[0m nb_nodes_in_simulations \u001b[38;5;241m=\u001b[39m dataset\u001b[38;5;241m.\u001b[39mget_simulations_sizes()\n",
      "File \u001b[0;32m~/Development/AI/cfdml/env/lib/python3.10/site-packages/lips/dataset/airfransDataSet.py:114\u001b[0m, in \u001b[0;36mAirfRANSDataSet.extract_data\u001b[0;34m(self)\u001b[0m\n\u001b[1;32m    101\u001b[0m \u001b[38;5;250m\u001b[39m\u001b[38;5;124;03m\"\"\"extract the x and y data from the dataset\u001b[39;00m\n\u001b[1;32m    102\u001b[0m \n\u001b[1;32m    103\u001b[0m \u001b[38;5;124;03mParameters\u001b[39;00m\n\u001b[0;32m   (...)\u001b[0m\n\u001b[1;32m    110\u001b[0m \u001b[38;5;124;03m    extracted inputs and outputs\u001b[39;00m\n\u001b[1;32m    111\u001b[0m \u001b[38;5;124;03m\"\"\"\u001b[39;00m\n\u001b[1;32m    112\u001b[0m \u001b[38;5;66;03m# init the sizes and everything\u001b[39;00m\n\u001b[1;32m    113\u001b[0m \u001b[38;5;66;03m# data = copy.deepcopy(self.data)\u001b[39;00m\n\u001b[0;32m--> 114\u001b[0m extract_x \u001b[38;5;241m=\u001b[39m \u001b[43mnp\u001b[49m\u001b[38;5;241;43m.\u001b[39;49m\u001b[43mconcatenate\u001b[49m\u001b[43m(\u001b[49m\u001b[43m[\u001b[49m\u001b[38;5;28;43mself\u001b[39;49m\u001b[38;5;241;43m.\u001b[39;49m\u001b[43mdata\u001b[49m\u001b[43m[\u001b[49m\u001b[43mkey\u001b[49m\u001b[43m]\u001b[49m\u001b[43m[\u001b[49m\u001b[43m:\u001b[49m\u001b[43m,\u001b[49m\u001b[43m \u001b[49m\u001b[38;5;28;43;01mNone\u001b[39;49;00m\u001b[43m]\u001b[49m\u001b[38;5;241;43m.\u001b[39;49m\u001b[43mastype\u001b[49m\u001b[43m(\u001b[49m\u001b[43mnp\u001b[49m\u001b[38;5;241;43m.\u001b[39;49m\u001b[43msingle\u001b[49m\u001b[43m)\u001b[49m\u001b[43m \u001b[49m\u001b[38;5;28;43;01mfor\u001b[39;49;00m\u001b[43m \u001b[49m\u001b[43mkey\u001b[49m\u001b[43m \u001b[49m\u001b[38;5;129;43;01min\u001b[39;49;00m\u001b[43m \u001b[49m\u001b[38;5;28;43mself\u001b[39;49m\u001b[38;5;241;43m.\u001b[39;49m\u001b[43m_attr_x\u001b[49m\u001b[43m]\u001b[49m\u001b[43m,\u001b[49m\u001b[43m \u001b[49m\u001b[43maxis\u001b[49m\u001b[43m \u001b[49m\u001b[38;5;241;43m=\u001b[39;49m\u001b[43m \u001b[49m\u001b[38;5;241;43m1\u001b[39;49m\u001b[43m)\u001b[49m\n\u001b[1;32m    115\u001b[0m extract_y \u001b[38;5;241m=\u001b[39m np\u001b[38;5;241m.\u001b[39mconcatenate([\u001b[38;5;28mself\u001b[39m\u001b[38;5;241m.\u001b[39mdata[key][:, \u001b[38;5;28;01mNone\u001b[39;00m]\u001b[38;5;241m.\u001b[39mastype(np\u001b[38;5;241m.\u001b[39msingle) \u001b[38;5;28;01mfor\u001b[39;00m key \u001b[38;5;129;01min\u001b[39;00m \u001b[38;5;28mself\u001b[39m\u001b[38;5;241m.\u001b[39m_attr_y], axis \u001b[38;5;241m=\u001b[39m \u001b[38;5;241m1\u001b[39m)\n\u001b[1;32m    116\u001b[0m \u001b[38;5;28;01mreturn\u001b[39;00m extract_x, extract_y\n",
      "\u001b[0;31mKeyboardInterrupt\u001b[0m: "
     ]
    }
   ],
   "source": [
    "def process_dataset(dataset, training: bool) -> DataLoader:\n",
    "    coord_x=dataset.data['x-position']\n",
    "    coord_y=dataset.data['y-position']\n",
    "    surf_bool=dataset.extra_data['surface']\n",
    "\n",
    "    position = np.stack([coord_x,coord_y],axis=1)\n",
    "\n",
    "    nodes_features, node_labels = dataset.extract_data()\n",
    "\n",
    "    torchDataset=[]\n",
    "    nb_nodes_in_simulations = dataset.get_simulations_sizes()\n",
    "    start_index = 0\n",
    "    for nb_nodes_in_simulation in nb_nodes_in_simulations:\n",
    "        end_index = start_index+nb_nodes_in_simulation\n",
    "        simulation_positions = torch.tensor(position[start_index:end_index,:], dtype = torch.float) \n",
    "        simulation_features = torch.tensor(nodes_features[start_index:end_index,:], dtype = torch.float) \n",
    "        simulation_labels = torch.tensor(node_labels[start_index:end_index,:], dtype = torch.float) \n",
    "        simulation_surface = torch.tensor(surf_bool[start_index:end_index])\n",
    "\n",
    "        sampleData=Data(pos=simulation_positions,\n",
    "                        x=simulation_features, \n",
    "                        y=simulation_labels,\n",
    "                        surf = simulation_surface.bool()) \n",
    "        sampleData = DelaunayTransform()(sampleData)\n",
    "        \n",
    "        # Nombre de nœuds dans le graphe (le plus grand index + 1)\n",
    "        num_nodes = sampleData.edge_index.max().item() + 1\n",
    "\n",
    "        # Calcul du degré de chaque nœud\n",
    "        degrees = torch.bincount(sampleData.edge_index[0], minlength=num_nodes)\n",
    "\n",
    "        # Calcul du degré moyen\n",
    "        average_degree = degrees.float().quantile(0.5).item()\n",
    "        print(f'Median degree: {average_degree}')\n",
    "\n",
    "        torchDataset.append(sampleData)\n",
    "        start_index += nb_nodes_in_simulation\n",
    "    return DataLoader(dataset=torchDataset,batch_size=1)\n",
    "\n",
    "data_loader = process_dataset(benchmark.train_dataset, True)"
   ]
  },
  {
   "cell_type": "markdown",
   "metadata": {},
   "source": [
    "## Example point cloud to graph"
   ]
  },
  {
   "cell_type": "code",
   "execution_count": 9,
   "metadata": {},
   "outputs": [],
   "source": [
    "from torch_geometric.transforms import SamplePoints, KNNGraph\n",
    "import torch_geometric.transforms as T\n",
    "from torch_geometric.datasets import GeometricShapes\n",
    "import networkx as nx\n",
    "from torch_geometric.utils import to_networkx\n",
    "from matplotlib import pyplot as plt\n",
    "# Generate a dataset of 2d points\n",
    "\n",
    "#transform = DelaunayTransform(3)\n",
    "#print(dataset[1].pos)\n",
    "#data = transform(dataset[1])\n",
    "#g = to_networkx(ata, to_undirected=True)\n",
    "#nx.draw(g, node_size=10)"
   ]
  },
  {
   "cell_type": "markdown",
   "metadata": {},
   "source": [
    "## Simultion point cloud to graph"
   ]
  },
  {
   "cell_type": "code",
   "execution_count": 10,
   "metadata": {},
   "outputs": [],
   "source": [
    "data = None\n",
    "g = None\n",
    "for data in data_loader:\n",
    "    data = Data(pos=data.pos, x=data.x, y=data.y)\n",
    "\n",
    "    # Apply the KNNGraph transformation\n",
    "    transform = DelaunayTransform()\n",
    "    data = transform(data)\n",
    "    \n",
    "    data = Data(pos=data.pos, x=data.x, y=data.y, edge_index=data.edge_index, edge_attr=data.edge_attr)\n",
    "    g = to_networkx(data, to_undirected=False)\n",
    "    nx.write_gexf(g, \"test.gexf\")\n",
    "    break\n",
    "\n",
    "import pandas as pd\n",
    "\n",
    "# Supposons que 'data' soit ton graphe PyTorch Geometric\n",
    "node_ids = range(data.num_nodes)\n",
    "df_nodes = pd.DataFrame(node_ids, columns=['Id'])\n",
    "\n",
    "# Si les caractéristiques des nœuds sont présentes, on peut les ajouter\n",
    "if data.x is not None:\n",
    "    df_nodes['Features'] = data.x.tolist()\n",
    "\n",
    "# Ajouter les positions des nœuds si elles existent\n",
    "if data.pos is not None:\n",
    "    df_nodes['X'] = data.pos[:, 0].tolist()\n",
    "    df_nodes['Y'] = data.pos[:, 1].tolist()\n",
    "    if data.pos.size(1) > 2:  # Si les positions sont en 3D\n",
    "        df_nodes['Z'] = data.pos[:, 2].tolist()\n",
    "\n",
    "# Sauvegarder en CSV pour importation dans Gephi\n",
    "df_nodes.to_csv(\"nodes_with_positions.csv\", index=False)\n",
    "\n",
    "# Exportation des arêtes\n",
    "edges = data.edge_index.t().numpy()  # Convertir en tableau numpy\n",
    "df_edges = pd.DataFrame(edges, columns=['Source', 'Target'])\n",
    "\n",
    "# Sauvegarder en CSV pour importation dans Gephi\n",
    "df_edges.to_csv(\"edges.csv\", index=False)\n"
   ]
  },
  {
   "cell_type": "code",
   "execution_count": 11,
   "metadata": {},
   "outputs": [],
   "source": [
    "# Use the original positions from data.pos for node placement\n",
    "# pos = {i: data.pos[i].numpy() for i in range(data.pos.shape[0])}\n",
    "# plt.figure(figsize=(12, 12)) \n",
    "# # Draw only the nodes (without edges)\n",
    "# nx.draw_networkx_nodes(g, pos, node_size=5, node_color='r')\n",
    "# print(type(g))\n",
    "# nx.draw_networkx_edges(g, pos)\n",
    "# plt.savefig(\"graph_output.svg\", format=\"svg\")\n",
    "#plt.scatter(data.pos[:, 0], data.pos[:, 1], c=data.y[:, 0], cmap='coolwarm', s=20)"
   ]
  }
 ],
 "metadata": {
  "kernelspec": {
   "display_name": "env",
   "language": "python",
   "name": "python3"
  },
  "language_info": {
   "codemirror_mode": {
    "name": "ipython",
    "version": 3
   },
   "file_extension": ".py",
   "mimetype": "text/x-python",
   "name": "python",
   "nbconvert_exporter": "python",
   "pygments_lexer": "ipython3",
   "version": "3.10.15"
  }
 },
 "nbformat": 4,
 "nbformat_minor": 2
}
