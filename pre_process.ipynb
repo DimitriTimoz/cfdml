{
 "cells": [
  {
   "cell_type": "code",
   "execution_count": 1,
   "metadata": {},
   "outputs": [],
   "source": [
    "import os\n",
    "from lips import get_root_path"
   ]
  },
  {
   "cell_type": "code",
   "execution_count": 2,
   "metadata": {},
   "outputs": [],
   "source": [
    "LIPS_PATH = get_root_path()\n",
    "DIRECTORY_NAME = 'Dataset'\n",
    "BENCHMARK_NAME = \"Case1\"\n",
    "LOG_PATH = LIPS_PATH + \"lips_logs.log\"\n",
    "BENCH_CONFIG_PATH = os.path.join(\"airfoilConfigurations\",\"benchmarks\",\"confAirfoil.ini\") #Configuration file related to the benchmark\n",
    "SIM_CONFIG_PATH = os.path.join(\"airfoilConfigurations\",\"simulators\",\"torch_fc.ini\") #Configuration file re"
   ]
  },
  {
   "cell_type": "code",
   "execution_count": 3,
   "metadata": {},
   "outputs": [
    {
     "name": "stderr",
     "output_type": "stream",
     "text": [
      "/home/dimitri/Development/AI/cfdml/env/lib/python3.8/site-packages/grid2op/Backend/PandaPowerBackend.py:31: UserWarning: Numba cannot be loaded. You will gain possibly massive speed if installing it by \n",
      "\t/home/dimitri/Development/AI/cfdml/env/bin/python -m pip install numba\n",
      "\n",
      "  warnings.warn(\n"
     ]
    }
   ],
   "source": [
    "from lips.dataset.airfransDataSet import download_data\n",
    "if not os.path.isdir(DIRECTORY_NAME):\n",
    "    download_data(root_path=\".\", directory_name=DIRECTORY_NAME)"
   ]
  },
  {
   "cell_type": "code",
   "execution_count": 4,
   "metadata": {},
   "outputs": [
    {
     "name": "stderr",
     "output_type": "stream",
     "text": [
      "Loading dataset (task: scarce, split: train): 100%|██████████| 200/200 [00:50<00:00,  3.95it/s]\n",
      "Loading dataset (task: full, split: test): 100%|██████████| 200/200 [00:50<00:00,  3.97it/s]\n",
      "Loading dataset (task: reynolds, split: test): 100%|██████████| 496/496 [02:00<00:00,  4.11it/s]\n"
     ]
    }
   ],
   "source": [
    "from lips.benchmark.airfransBenchmark import AirfRANSBenchmark\n",
    "\n",
    "benchmark=AirfRANSBenchmark(benchmark_path = DIRECTORY_NAME,\n",
    "                            config_path = BENCH_CONFIG_PATH,\n",
    "                            benchmark_name = BENCHMARK_NAME,\n",
    "                            log_path=LOG_PATH)\n",
    "                            \n",
    "benchmark.load(path=DIRECTORY_NAME)"
   ]
  },
  {
   "cell_type": "code",
   "execution_count": 5,
   "metadata": {},
   "outputs": [
    {
     "data": {
      "text/plain": [
       "array([ 4.21687031,  4.21688938,  3.99183941, ..., -2.13636851,\n",
       "       -2.14823389, -2.16010475])"
      ]
     },
     "execution_count": 5,
     "metadata": {},
     "output_type": "execute_result"
    }
   ],
   "source": [
    "benchmark.train_dataset.data[\"x-position\"]"
   ]
  },
  {
   "cell_type": "code",
   "execution_count": 6,
   "metadata": {},
   "outputs": [],
   "source": [
    "import torch\n",
    "from torch_geometric.transforms import BaseTransform\n",
    "from torch_geometric.data import Data\n",
    "from scipy.spatial import Delaunay\n",
    "import numpy as np\n",
    "\n",
    "class DelaunayTransform(BaseTransform):\n",
    "    def __init__(self, dim=2):\n",
    "        \"\"\"\n",
    "        Initialize the DelaunayTransform.\n",
    "\n",
    "        Args:\n",
    "            dim (int): Dimensionality of the points (default is 2 for 2D).\n",
    "        \"\"\"\n",
    "        self.dim = dim\n",
    "\n",
    "    def __call__(self, data: Data) -> Data:\n",
    "        \"\"\"\n",
    "        Apply Delaunay triangulation to the node coordinates to construct edge_index.\n",
    "\n",
    "        Args:\n",
    "            data (Data): PyTorch Geometric Data object with 'x' attribute.\n",
    "\n",
    "        Returns:\n",
    "            Data: Updated Data object with 'edge_index' constructed via Delaunay triangulation.\n",
    "        \"\"\"            \n",
    "        # Convert node features to NumPy array\n",
    "        points = data.pos\n",
    "\n",
    "        # Perform Delaunay triangulation\n",
    "        tri = Delaunay(points)\n",
    "        # Extract edges from the simplices\n",
    "        edges = set()\n",
    "        for simplex in tri.simplices:\n",
    "            # Each simplex is a triangle represented by three vertex indices\n",
    "            edges.add(tuple(sorted([simplex[0], simplex[1]])))\n",
    "            edges.add(tuple(sorted([simplex[0], simplex[2]])))\n",
    "            edges.add(tuple(sorted([simplex[1], simplex[2]])))\n",
    "\n",
    "        # Convert set of edges to a list\n",
    "        edge_index = np.array(list(edges)).T  # Shape: (2, num_edges)\n",
    "\n",
    "        # Convert edge_index to torch tensor\n",
    "        edge_index = torch.tensor(edge_index, dtype=torch.long)\n",
    "\n",
    "        # Optionally, you can compute edge attributes here (e.g., Euclidean distances)\n",
    "        # For example:\n",
    "        # edge_attr = torch.norm(data.x[edge_index[0]] - data.x[edge_index[1]], dim=1, keepdim=True)\n",
    "        # data.edge_attr = edge_attr\n",
    "\n",
    "        # Update the Data object\n",
    "        data.edge_index = edge_index\n",
    "        data.edge_attr = np.zeros((edge_index.shape[1], 1))\n",
    "\n",
    "        return data\n"
   ]
  },
  {
   "cell_type": "code",
   "execution_count": 7,
   "metadata": {},
   "outputs": [],
   "source": [
    "import numpy as np\n",
    "from torch_geometric.data import Data, DataLoader"
   ]
  },
  {
   "cell_type": "code",
   "execution_count": 8,
   "metadata": {},
   "outputs": [
    {
     "name": "stderr",
     "output_type": "stream",
     "text": [
      "/home/dimitri/Development/AI/cfdml/env/lib/python3.8/site-packages/torch_geometric/deprecation.py:13: UserWarning: 'data.DataLoader' is deprecated, use 'loader.DataLoader' instead\n",
      "  warnings.warn(out)\n"
     ]
    }
   ],
   "source": [
    "def process_dataset(dataset, training: bool) -> DataLoader:\n",
    "    coord_x=dataset.data['x-position']\n",
    "    coord_y=dataset.data['y-position']\n",
    "    surf_bool=dataset.extra_data['surface']\n",
    "\n",
    "    position = np.stack([coord_x,coord_y],axis=1)\n",
    "\n",
    "    nodes_features, node_labels = dataset.extract_data()\n",
    "\n",
    "    torchDataset=[]\n",
    "    nb_nodes_in_simulations = dataset.get_simulations_sizes()\n",
    "    start_index = 0\n",
    "    for nb_nodes_in_simulation in nb_nodes_in_simulations:\n",
    "        end_index = start_index+nb_nodes_in_simulation\n",
    "        simulation_positions = torch.tensor(position[start_index:end_index,:], dtype = torch.float) \n",
    "        simulation_features = torch.tensor(nodes_features[start_index:end_index,:], dtype = torch.float) \n",
    "        simulation_labels = torch.tensor(node_labels[start_index:end_index,:], dtype = torch.float) \n",
    "        simulation_surface = torch.tensor(surf_bool[start_index:end_index])\n",
    "\n",
    "        sampleData=Data(pos=simulation_positions,\n",
    "                        x=simulation_features, \n",
    "                        y=simulation_labels,\n",
    "                        surf = simulation_surface.bool()) \n",
    "        torchDataset.append(sampleData)\n",
    "        start_index += nb_nodes_in_simulation\n",
    "    return DataLoader(dataset=torchDataset,batch_size=1)\n",
    "\n",
    "data_loader = process_dataset(benchmark.train_dataset, True)"
   ]
  },
  {
   "cell_type": "markdown",
   "metadata": {},
   "source": [
    "## Example point cloud to graph"
   ]
  },
  {
   "cell_type": "code",
   "execution_count": 9,
   "metadata": {},
   "outputs": [],
   "source": [
    "from torch_geometric.transforms import SamplePoints, KNNGraph\n",
    "import torch_geometric.transforms as T\n",
    "from torch_geometric.datasets import GeometricShapes\n",
    "import networkx as nx\n",
    "from torch_geometric.utils import to_networkx\n",
    "from matplotlib import pyplot as plt\n",
    "# Generate a dataset of 2d points\n",
    "\n",
    "#transform = DelaunayTransform(3)\n",
    "#print(dataset[1].pos)\n",
    "#data = transform(dataset[1])\n",
    "#g = to_networkx(ata, to_undirected=True)\n",
    "#nx.draw(g, node_size=10)"
   ]
  },
  {
   "cell_type": "markdown",
   "metadata": {},
   "source": [
    "## Simultion point cloud to graph"
   ]
  },
  {
   "cell_type": "code",
   "execution_count": 10,
   "metadata": {},
   "outputs": [],
   "source": [
    "data = None\n",
    "g = None\n",
    "for data in data_loader:\n",
    "    data = Data(pos=data.pos, x=data.x, y=data.y)\n",
    "\n",
    "    # Apply the KNNGraph transformation\n",
    "    transform = DelaunayTransform()\n",
    "    data = transform(data)\n",
    "    \n",
    "    data = Data(pos=data.pos, x=data.x, y=data.y, edge_index=data.edge_index, edge_attr=data.edge_attr)\n",
    "    g = to_networkx(data, to_undirected=False)\n",
    "    nx.write_gexf(g, \"test.gexf\")\n",
    "    break\n",
    "\n",
    "import pandas as pd\n",
    "\n",
    "# Supposons que 'data' soit ton graphe PyTorch Geometric\n",
    "node_ids = range(data.num_nodes)\n",
    "df_nodes = pd.DataFrame(node_ids, columns=['Id'])\n",
    "\n",
    "# Si les caractéristiques des nœuds sont présentes, on peut les ajouter\n",
    "if data.x is not None:\n",
    "    df_nodes['Features'] = data.x.tolist()\n",
    "\n",
    "# Ajouter les positions des nœuds si elles existent\n",
    "if data.pos is not None:\n",
    "    df_nodes['X'] = data.pos[:, 0].tolist()\n",
    "    df_nodes['Y'] = data.pos[:, 1].tolist()\n",
    "    if data.pos.size(1) > 2:  # Si les positions sont en 3D\n",
    "        df_nodes['Z'] = data.pos[:, 2].tolist()\n",
    "\n",
    "# Sauvegarder en CSV pour importation dans Gephi\n",
    "df_nodes.to_csv(\"nodes_with_positions.csv\", index=False)\n",
    "\n",
    "# Exportation des arêtes\n",
    "edges = data.edge_index.t().numpy()  # Convertir en tableau numpy\n",
    "df_edges = pd.DataFrame(edges, columns=['Source', 'Target'])\n",
    "\n",
    "# Sauvegarder en CSV pour importation dans Gephi\n",
    "df_edges.to_csv(\"edges.csv\", index=False)\n"
   ]
  },
  {
   "cell_type": "code",
   "execution_count": 11,
   "metadata": {},
   "outputs": [],
   "source": [
    "# Use the original positions from data.pos for node placement\n",
    "# pos = {i: data.pos[i].numpy() for i in range(data.pos.shape[0])}\n",
    "# plt.figure(figsize=(12, 12)) \n",
    "# # Draw only the nodes (without edges)\n",
    "# nx.draw_networkx_nodes(g, pos, node_size=5, node_color='r')\n",
    "# print(type(g))\n",
    "# nx.draw_networkx_edges(g, pos)\n",
    "# plt.savefig(\"graph_output.svg\", format=\"svg\")\n",
    "#plt.scatter(data.pos[:, 0], data.pos[:, 1], c=data.y[:, 0], cmap='coolwarm', s=20)"
   ]
  }
 ],
 "metadata": {
  "kernelspec": {
   "display_name": "env",
   "language": "python",
   "name": "python3"
  },
  "language_info": {
   "codemirror_mode": {
    "name": "ipython",
    "version": 3
   },
   "file_extension": ".py",
   "mimetype": "text/x-python",
   "name": "python",
   "nbconvert_exporter": "python",
   "pygments_lexer": "ipython3",
   "version": "3.8.20"
  }
 },
 "nbformat": 4,
 "nbformat_minor": 2
}
